{
 "cells": [
  {
   "cell_type": "code",
   "execution_count": 0,
   "metadata": {
    "collapsed": false
   },
   "outputs": [],
   "source": [
    "from IPython.parallel import Client\n",
    "import os, time"
   ]
  },
  {
   "cell_type": "code",
   "execution_count": 0,
   "metadata": {
    "collapsed": false
   },
   "outputs": [],
   "source": [
    "rc = Client(profile=\"huge\")\n",
    "dview = rc[:]\n",
    "lview = rc.load_balanced_view()\n",
    "len(rc)"
   ]
  },
  {
   "cell_type": "code",
   "execution_count": 0,
   "metadata": {
    "collapsed": false
   },
   "outputs": [],
   "source": [
    "def get_async_progress(jobs):\n",
    "    ready = 0\n",
    "    for j in jobs:\n",
    "        if j.ready():\n",
    "            ready += 1\n",
    "    return \"%d/%d\" % (ready, len(jobs))"
   ]
  },
  {
   "cell_type": "code",
   "execution_count": 0,
   "metadata": {
    "collapsed": false
   },
   "outputs": [],
   "source": [
    "def get_idle_engines(rc):\n",
    "    qs = rc.queue_status()\n",
    "    time.sleep(10)\n",
    "    active = [eid for eid in sorted(qs)[:-1] if not qs[eid]['queue']]\n",
    "    d = rc[active]\n",
    "    l = rc.load_balanced_view(targets=active)\n",
    "    return d, l"
   ]
  },
  {
   "cell_type": "code",
   "execution_count": 0,
   "metadata": {
    "collapsed": false
   },
   "outputs": [],
   "source": [
    "dview, lview = get_idle_engines(rc)"
   ]
  },
  {
   "cell_type": "code",
   "execution_count": 0,
   "metadata": {
    "collapsed": false
   },
   "outputs": [],
   "source": [
    "len(dview)"
   ]
  },
  {
   "cell_type": "code",
   "execution_count": 0,
   "metadata": {
    "collapsed": false
   },
   "outputs": [],
   "source": [
    "with dview.sync_imports():\n",
    "    import os\n",
    "    import sys\n",
    "    import socket\n",
    "    import stopwatch"
   ]
  },
  {
   "cell_type": "code",
   "execution_count": 0,
   "metadata": {
    "collapsed": false
   },
   "outputs": [],
   "source": [
    "bam_dir = \"/data7/eckertlab/projects/ethan/analysis\"\n",
    "analysis_dir = os.path.join(bam_dir, \"samtools0.1.19\")\n",
    "assert os.path.exists(analysis_dir)"
   ]
  },
  {
   "cell_type": "code",
   "execution_count": 0,
   "metadata": {
    "collapsed": false
   },
   "outputs": [],
   "source": [
    "bam_files = !ls $bam_dir/*_sorted.bam"
   ]
  },
  {
   "cell_type": "code",
   "execution_count": 0,
   "metadata": {
    "collapsed": false
   },
   "outputs": [],
   "source": [
    "@lview.remote()\n",
    "def remove_duplicates(args):\n",
    "    samtools, sorted_bam, analysis_dir = args\n",
    "    out = os.path.join(analysis_dir, \"%s_rmdup.bam\" % os.path.basename(sorted_bam))\n",
    "    !$samtools rmdup -s $sorted_bam $out\n",
    "    !$samtools index $out\n",
    "    return out"
   ]
  },
  {
   "cell_type": "code",
   "execution_count": 0,
   "metadata": {
    "collapsed": false
   },
   "outputs": [],
   "source": [
    "samtools = \"/home/cfriedline/data7/src/samtools-0.1.19/samtools\""
   ]
  },
  {
   "cell_type": "code",
   "execution_count": 0,
   "metadata": {
    "collapsed": false
   },
   "outputs": [],
   "source": [
    "rmdup_jobs = []\n",
    "for b in bam_files:\n",
    "    rmdup_jobs.append(remove_duplicates((samtools, b, analysis_dir)))"
   ]
  },
  {
   "cell_type": "code",
   "execution_count": 0,
   "metadata": {
    "collapsed": false
   },
   "outputs": [],
   "source": [
    "get_async_progress(rmdup_jobs)"
   ]
  },
  {
   "cell_type": "code",
   "execution_count": 0,
   "metadata": {
    "collapsed": false
   },
   "outputs": [],
   "source": [
    "rmdup_jobs[0].get()"
   ]
  },
  {
   "cell_type": "code",
   "execution_count": 0,
   "metadata": {
    "collapsed": false
   },
   "outputs": [],
   "source": [
    "assembly = \"/data7/cfriedline/assemblies/foxtail2/Green_26_ATCGCGCAA.fastq_31_data_31/contigs.fa_in_map.fa\""
   ]
  },
  {
   "cell_type": "code",
   "execution_count": 0,
   "metadata": {
    "collapsed": false
   },
   "outputs": [],
   "source": [
    "bam_rmdup_files = !ls $analysis_dir/*_rmdup.bam"
   ]
  },
  {
   "cell_type": "code",
   "execution_count": 0,
   "metadata": {
    "collapsed": false
   },
   "outputs": [],
   "source": [
    "bam_string = \"-b \" + \" -b \".join(bam_rmdup_files)"
   ]
  },
  {
   "cell_type": "code",
   "execution_count": 0,
   "metadata": {
    "collapsed": false
   },
   "outputs": [],
   "source": [
    "def create_ploidy_file(bam_files):\n",
    "    d = os.path.dirname(bam_files[0])\n",
    "    base = os.path.basename(bam_files[0])\n",
    "    ploidy_file = os.path.join(d, \"%s.ploidy\" % \"all\")\n",
    "    with open(ploidy_file, \"w\") as o:\n",
    "        for b in bam_files:\n",
    "            name = \"%s.fastq\" % os.path.basename(b).split(\".fastq\")[0]\n",
    "            ploidy = 2\n",
    "            o.write(\"%s\\t%d\\n\" % (name, ploidy))\n",
    "    return ploidy_file\n",
    "dview['create_ploidy_file'] = create_ploidy_file"
   ]
  },
  {
   "cell_type": "code",
   "execution_count": 0,
   "metadata": {
    "collapsed": false
   },
   "outputs": [],
   "source": [
    "def call_snps(args):\n",
    "    print socket.gethostname()\n",
    "    timer = stopwatch.Timer()\n",
    "    samtools, reference, bam_sorted, bcftools, raw_bcf, perl, vcfutils, raw_vcf, out_dir = args \n",
    "    if not out_dir:\n",
    "        out_dir = os.environ['TMPDIR']\n",
    "    raw_bcf = os.path.join(out_dir, raw_bcf)\n",
    "    raw_vcf = os.path.join(out_dir, raw_vcf)\n",
    "    ploidy_file = create_ploidy_file(bam_sorted)\n",
    "    pileup = \"%s mpileup -uf %s %s | %s view -s %s -bvcg - > %s\" % (samtools, reference, ' '.join(bam_sorted), bcftools, ploidy_file, raw_bcf) \n",
    "    view_filter = \"%s view -s %s %s | %s %s varFilter -D100 > %s\" % (bcftools, ploidy_file, raw_bcf, perl, vcfutils, raw_vcf)\n",
    "    print pileup\n",
    "    #!$pileup\n",
    "    print view_filter\n",
    "    !$view_filter\n",
    "    timer.stop()\n",
    "    return raw_vcf, args, pileup, view_filter, timer.elapsed\n",
    "dview['call_snps'] = call_snps"
   ]
  },
  {
   "cell_type": "code",
   "execution_count": 0,
   "metadata": {
    "collapsed": false
   },
   "outputs": [],
   "source": [
    "samtools = \"/home/cfriedline/data7/src/samtools-0.1.19/samtools\"\n",
    "bcftools = \"/home/cfriedline/data7/src/samtools-0.1.19/bcftools/bcftools\"\n",
    "vcfutils = \"/home/cfriedline/data7/src/bcftools/vcfutils.pl\"\n",
    "perl = \"/home/cfriedline/data7/opt/ActivePerl-5.16/bin/perl\""
   ]
  },
  {
   "cell_type": "code",
   "execution_count": 0,
   "metadata": {
    "collapsed": false
   },
   "outputs": [],
   "source": [
    "args = [samtools, \n",
    "        assembly, \n",
    "        bam_rmdup_files, \n",
    "        bcftools, \n",
    "        \"samtools.bcf\", \n",
    "        perl,\n",
    "        vcfutils, \n",
    "        \"samtools.vcf\", \n",
    "        analysis_dir]\n",
    "samtools_job = lview.apply_async(call_snps, args)"
   ]
  },
  {
   "cell_type": "code",
   "execution_count": 0,
   "metadata": {
    "collapsed": false
   },
   "outputs": [],
   "source": [
    "print samtools_job.stdout"
   ]
  }
 ],
 "metadata": {
  "kernelspec": {
   "display_name": "Python 3",
   "language": "python",
   "name": "python3"
  },
  "language_info": {
   "codemirror_mode": {
    "name": "ipython",
    "version": 3
   },
   "file_extension": ".py",
   "mimetype": "text/x-python",
   "name": "python",
   "nbconvert_exporter": "python",
   "pygments_lexer": "ipython3",
   "version": "3.4.3"
  }
 },
 "nbformat": 4,
 "nbformat_minor": 0
}
