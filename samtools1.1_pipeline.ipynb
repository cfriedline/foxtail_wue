{
 "metadata": {
  "name": "",
  "signature": "sha256:d73984c4cc1296a800a2c5740354aa3cfc70bbb741a181459dccc7cb37950fff"
 },
 "nbformat": 3,
 "nbformat_minor": 0,
 "worksheets": [
  {
   "cells": [
    {
     "cell_type": "code",
     "collapsed": false,
     "input": [
      "from IPython.parallel import Client\n",
      "import os"
     ],
     "language": "python",
     "metadata": {},
     "outputs": [],
     "prompt_number": ""
    },
    {
     "cell_type": "code",
     "collapsed": false,
     "input": [
      "rc = Client(profile=\"huge\")\n",
      "dview = rc[:]\n",
      "lview = rc.load_balanced_view()\n",
      "len(rc)"
     ],
     "language": "python",
     "metadata": {},
     "outputs": [],
     "prompt_number": ""
    },
    {
     "cell_type": "code",
     "collapsed": false,
     "input": [
      "exclude = set([636, 640, 648, 741])\n",
      "active = []\n",
      "for i in xrange(len(rc)):\n",
      "    if i not in exclude:\n",
      "        active.append(i)\n",
      "dview = rc[active]\n",
      "lview = rc.load_balanced_view(targets=active)"
     ],
     "language": "python",
     "metadata": {},
     "outputs": [],
     "prompt_number": ""
    },
    {
     "cell_type": "code",
     "collapsed": false,
     "input": [
      "with dview.sync_imports():\n",
      "    import os\n",
      "    import sys\n",
      "    import socket\n",
      "    import stopwatch"
     ],
     "language": "python",
     "metadata": {},
     "outputs": [],
     "prompt_number": ""
    },
    {
     "cell_type": "code",
     "collapsed": false,
     "input": [
      "bam_dir = \"/data7/eckertlab/projects/ethan/analysis\"\n",
      "analysis_dir = os.path.join(bam_dir, \"samtools0.1.19\")\n",
      "assert os.path.exists(analysis_dir)"
     ],
     "language": "python",
     "metadata": {},
     "outputs": [],
     "prompt_number": ""
    },
    {
     "cell_type": "code",
     "collapsed": false,
     "input": [
      "bam_files = !ls $bam_dir/*_sorted.bam"
     ],
     "language": "python",
     "metadata": {},
     "outputs": [],
     "prompt_number": ""
    },
    {
     "cell_type": "code",
     "collapsed": false,
     "input": [
      "@lview.remote()\n",
      "def remove_duplicates(args):\n",
      "    sorted_bam, analysis_dir = args\n",
      "    samtools = \"/home/cfriedline/data7/src/samtools-0.1.19/samtools\"\n",
      "    out = os.path.join(analysis_dir, \"%s_rmdup.bam\" % sorted_bam)\n",
      "    !$samtools rmdup -s $sorted_bam $out\n",
      "    !$samtools index $out\n",
      "    return out"
     ],
     "language": "python",
     "metadata": {},
     "outputs": [],
     "prompt_number": ""
    },
    {
     "cell_type": "code",
     "collapsed": false,
     "input": [
      "rmdup_jobs = []\n",
      "for b in bam_files:\n",
      "    rmdup_jobs.append(remove_duplicates((b, analysis_dir)))"
     ],
     "language": "python",
     "metadata": {},
     "outputs": [],
     "prompt_number": ""
    },
    {
     "cell_type": "code",
     "collapsed": false,
     "input": [
      "ready = 0\n",
      "for x in rmdup_jobs:\n",
      "    if x.ready():\n",
      "        ready += 1\n",
      "print \"%d/%d\" % (ready, len(rmdup_jobs))"
     ],
     "language": "python",
     "metadata": {},
     "outputs": [],
     "prompt_number": ""
    },
    {
     "cell_type": "code",
     "collapsed": false,
     "input": [
      "assembly = \"/data7/cfriedline/assemblies/foxtail2/Green_26_ATCGCGCAA.fastq_31_data_31/contigs.fa_in_map.fa\""
     ],
     "language": "python",
     "metadata": {},
     "outputs": [],
     "prompt_number": ""
    },
    {
     "cell_type": "code",
     "collapsed": false,
     "input": [
      "bam_rmdup_files = !ls $analysis_dir/*_rmdup.bam"
     ],
     "language": "python",
     "metadata": {},
     "outputs": [],
     "prompt_number": ""
    },
    {
     "cell_type": "code",
     "collapsed": false,
     "input": [
      "bam_string = \"-b \" + \" -b \".join(bam_rmdup_files)"
     ],
     "language": "python",
     "metadata": {},
     "outputs": [],
     "prompt_number": ""
    },
    {
     "cell_type": "code",
     "collapsed": false,
     "input": [
      "def create_ploidy_file(bam_files):\n",
      "    d = os.path.dirname(bam_files[0])\n",
      "    base = os.path.basename(bam_files[0])\n",
      "    ploidy_file = os.path.join(d, \"%s.ploidy\" % \"all\")\n",
      "    with open(ploidy_file, \"w\") as o:\n",
      "        for b in bam_files:\n",
      "            name = \"%s.fastq\" % os.path.basename(b).split(\".fastq\")[0]\n",
      "            ploidy = 2\n",
      "            o.write(\"%s\\t%d\\n\" % (name, ploidy))\n",
      "    return ploidy_file\n",
      "dview['create_ploidy_file'] = create_ploidy_file"
     ],
     "language": "python",
     "metadata": {},
     "outputs": [],
     "prompt_number": ""
    },
    {
     "cell_type": "code",
     "collapsed": false,
     "input": [
      "def call_snps(args):\n",
      "    print socket.gethostname()\n",
      "    timer = stopwatch.Timer()\n",
      "    samtools, reference, bam_sorted, bcftools, raw_bcf, perl, vcfutils, raw_vcf, out_dir = args \n",
      "    if not out_dir:\n",
      "        out_dir = os.environ['TMPDIR']\n",
      "    raw_bcf = os.path.join(out_dir, raw_bcf)\n",
      "    raw_vcf = os.path.join(out_dir, raw_vcf)\n",
      "    ploidy_file = create_ploidy_file(bam_sorted)\n",
      "    pileup = \"%s mpileup -uf %s %s | %s view -s %s -bvcg - > %s\" % (samtools, reference, ' '.join(bam_sorted), bcftools, ploidy_file, raw_bcf) \n",
      "    view_filter = \"%s view -s %s %s | %s %s varFilter -D100 > %s\" % (bcftools, ploidy_file, raw_bcf, perl, vcfutils, raw_vcf)\n",
      "    print pileup\n",
      "    #!$pileup\n",
      "    print view_filter\n",
      "    !$view_filter\n",
      "    timer.stop()\n",
      "    return raw_vcf, args, pileup, view_filter, timer.elapsed\n",
      "dview['call_snps'] = call_snps"
     ],
     "language": "python",
     "metadata": {},
     "outputs": [],
     "prompt_number": ""
    },
    {
     "cell_type": "code",
     "collapsed": false,
     "input": [
      "samtools = \"/home/cfriedline/data7/src/samtools-0.1.19/samtools\"\n",
      "bcftools = \"/home/cfriedline/data7/src/samtools-0.1.19/bcftools/bcftools\"\n",
      "vcfutils = \"/home/cfriedline/data7/src/bcftools/vcfutils.pl\"\n",
      "perl = \"/home/cfriedline/data7/opt/ActivePerl-5.16/bin/perl\""
     ],
     "language": "python",
     "metadata": {},
     "outputs": [],
     "prompt_number": ""
    },
    {
     "cell_type": "code",
     "collapsed": false,
     "input": [
      "args = [samtools, \n",
      "        assembly, \n",
      "        bam_rmdup_files, \n",
      "        bcftools, \n",
      "        \"samtools.bcf\", \n",
      "        perl,\n",
      "        vcfutils, \n",
      "        \"samtools.vcf\", \n",
      "        analysis_dir]\n",
      "samtools_job = lview.apply_async(call_snps, args)"
     ],
     "language": "python",
     "metadata": {},
     "outputs": [],
     "prompt_number": ""
    },
    {
     "cell_type": "code",
     "collapsed": false,
     "input": [
      "print samtools_job.stdout"
     ],
     "language": "python",
     "metadata": {},
     "outputs": [],
     "prompt_number": ""
    }
   ],
   "metadata": {}
  }
 ]
}