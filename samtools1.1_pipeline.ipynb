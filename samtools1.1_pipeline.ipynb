{
 "cells": [
  {
   "cell_type": "code",
   "execution_count": 0,
   "metadata": {
    "collapsed": false
   },
   "outputs": [],
   "source": [
    "from IPython.parallel import Client\n",
    "import os, time"
   ]
  },
  {
   "cell_type": "code",
   "execution_count": 0,
   "metadata": {
    "collapsed": false
   },
   "outputs": [],
   "source": [
    "rc = Client(profile=\"huge\")\n",
    "dview = rc[:]\n",
    "lview = rc.load_balanced_view()\n",
    "len(rc)"
   ]
  },
  {
   "cell_type": "code",
   "execution_count": 0,
   "metadata": {
    "collapsed": false
   },
   "outputs": [],
   "source": [
    "def get_async_progress(jobs):\n",
    "    ready = 0\n",
    "    for j in jobs:\n",
    "        if j.ready():\n",
    "            ready += 1\n",
    "    return \"%d/%d\" % (ready, len(jobs))"
   ]
  },
  {
   "cell_type": "code",
   "execution_count": 0,
   "metadata": {
    "collapsed": false
   },
   "outputs": [],
   "source": [
    "def get_idle_engines(rc):\n",
    "    qs = rc.queue_status()\n",
    "    time.sleep(10)\n",
    "    active = [eid for eid in sorted(qs)[:-1] if not qs[eid]['queue']]\n",
    "    d = rc[active]\n",
    "    l = rc.load_balanced_view(targets=active)\n",
    "    return d, l"
   ]
  },
  {
   "cell_type": "code",
   "execution_count": 0,
   "metadata": {
    "collapsed": false
   },
   "outputs": [],
   "source": [
    "dview, lview = get_idle_engines(rc)"
   ]
  },
  {
   "cell_type": "code",
   "execution_count": 0,
   "metadata": {
    "collapsed": false
   },
   "outputs": [],
   "source": [
    "with dview.sync_imports():\n",
    "    import os\n",
    "    import sys\n",
    "    import socket\n",
    "    import stopwatch"
   ]
  },
  {
   "cell_type": "code",
   "execution_count": 0,
   "metadata": {
    "collapsed": false
   },
   "outputs": [],
   "source": [
    "def get_single_host_lview(host_list):\n",
    "    hosts = dview.apply(socket.gethostname).get()\n",
    "    host_ids = {}\n",
    "    for i, host in enumerate(hosts):\n",
    "        if not host in host_ids:\n",
    "            host_ids[host] = []\n",
    "        if host_list == \"all\":\n",
    "            host_ids[host].append(i)\n",
    "        elif host in host_list:\n",
    "            host_ids[host].append(i)\n",
    "    hview = [v[0] for k, v in host_ids.items()]\n",
    "    hlview = rc.load_balanced_view(targets=hview)\n",
    "    return hlview"
   ]
  },
  {
   "cell_type": "code",
   "execution_count": 0,
   "metadata": {
    "collapsed": false
   },
   "outputs": [],
   "source": [
    "hlview = get_single_host_lview(\"all\")\n",
    "len(hlview)"
   ]
  },
  {
   "cell_type": "code",
   "execution_count": 0,
   "metadata": {
    "collapsed": false
   },
   "outputs": [],
   "source": [
    "bam_dir = \"/data7/eckertlab/projects/ethan/analysis\"\n",
    "analysis_dir = os.path.join(bam_dir, \"samtools1.1\")\n",
    "assert os.path.exists(analysis_dir)"
   ]
  },
  {
   "cell_type": "code",
   "execution_count": 0,
   "metadata": {
    "collapsed": false
   },
   "outputs": [],
   "source": [
    "bam_files = !ls $bam_dir/*_sorted.bam"
   ]
  },
  {
   "cell_type": "code",
   "execution_count": 0,
   "metadata": {
    "collapsed": false
   },
   "outputs": [],
   "source": [
    "samtools = \"/home/cfriedline/data7/src/samtools-1.1/samtools-1.1/samtools\"\n",
    "bcftools = \"/home/cfriedline/data7/src/samtools-1.1/bcftools-1.1/bcftools\"\n",
    "picard = \"/home/cfriedline/data7/src/broadinstitute-picard-03a1d72/dist/picard.jar\"\n",
    "java = \"/home/cfriedline/jdk1.7.0_25/bin/java\"\n",
    "perl = \"/home/cfriedline/data7/opt/ActivePerl-5.16/bin/perl\""
   ]
  },
  {
   "cell_type": "code",
   "execution_count": 0,
   "metadata": {
    "collapsed": false
   },
   "outputs": [],
   "source": [
    "def mark_duplicates(args):\n",
    "    java, picard, bam_file, analysis_dir = args\n",
    "    out_bam = os.path.join(\"%s_dedup.bam\" % os.path.basename(bam_file))\n",
    "    t = tempfile.NamedTemporaryFile(delete=False)\n",
    "    cmd = \"%s -jar %s MarkDuplicates \\\n",
    "    INPUT=%s OUTPUT=%s METRICS_FILE=%s.metrics\" %     (java,\n",
    "                              picard,\n",
    "                              bam_file,\n",
    "                              t.name,\n",
    "                              out_bam)\n",
    "    print cmd\n",
    "    !$cmd\n",
    "    shutil.move(t.name, out_bam)\n",
    "    return cmd, out_bam\n",
    "dview['mark_duplicates'] = mark_duplicates"
   ]
  },
  {
   "cell_type": "code",
   "execution_count": 0,
   "metadata": {
    "collapsed": false
   },
   "outputs": [],
   "source": [
    "rmdup_jobs = []\n",
    "for b in bam_files:\n",
    "    rmdup_jobs.append(hlview.apply_async(mark_duplicates, (java, picard, b, analysis_dir)))"
   ]
  },
  {
   "cell_type": "code",
   "execution_count": 0,
   "metadata": {
    "collapsed": false
   },
   "outputs": [],
   "source": [
    "get_async_progress(rmdup_jobs)"
   ]
  },
  {
   "cell_type": "code",
   "execution_count": 0,
   "metadata": {
    "collapsed": false
   },
   "outputs": [],
   "source": [
    "rmdup_jobs[0].get()"
   ]
  },
  {
   "cell_type": "code",
   "execution_count": 0,
   "metadata": {
    "collapsed": false
   },
   "outputs": [],
   "source": [
    "assembly = \"/data7/cfriedline/assemblies/foxtail2/Green_26_ATCGCGCAA.fastq_31_data_31/contigs.fa_in_map.fa\""
   ]
  },
  {
   "cell_type": "code",
   "execution_count": 0,
   "metadata": {
    "collapsed": false
   },
   "outputs": [],
   "source": [
    "bam_rmdup_files = !ls $analysis_dir/*_dedup.bam\n",
    "bam_rmdup_files"
   ]
  },
  {
   "cell_type": "code",
   "execution_count": 0,
   "metadata": {
    "collapsed": false
   },
   "outputs": [],
   "source": [
    "def create_ploidy_file(args):\n",
    "    bam_files, analysis_dir = args\n",
    "    ploidy_file = os.path.join(analysis_dir, \"%s.ploidy\" % \"all\")\n",
    "    with open(ploidy_file, \"w\") as o:\n",
    "        for b in bam_files:\n",
    "            name = \"%s.fastq\" % os.path.basename(b).split(\".fastq\")[0]\n",
    "            ploidy = 2\n",
    "            o.write(\"%s\\t%d\\n\" % (name, ploidy))\n",
    "    return ploidy_file\n",
    "dview['create_ploidy_file'] = create_ploidy_file"
   ]
  },
  {
   "cell_type": "code",
   "execution_count": 0,
   "metadata": {
    "collapsed": false
   },
   "outputs": [],
   "source": [
    "def call_snps(args):\n",
    "    print socket.gethostname()\n",
    "    timer = stopwatch.Timer()\n",
    "    samtools, reference, bam_sorted, bcftools, raw_vcf, out_dir = args \n",
    "    if not out_dir:\n",
    "        out_dir = os.environ['TMPDIR']\n",
    "    raw_vcf = os.path.join(out_dir, raw_vcf)\n",
    "    ploidy_file = create_ploidy_file((bam_sorted, out_dir))\n",
    "    pileup = \"%s mpileup -ugf %s %s | %s call -S %s -vmO z -o %s\" % (samtools, \n",
    "                                                                     reference, \n",
    "                                                                     ' '.join(bam_sorted), \n",
    "                                                                     bcftools, \n",
    "                                                                     ploidy_file, \n",
    "                                                                     raw_vcf) \n",
    "    \n",
    "    print pileup\n",
    "    !$pileup\n",
    "    timer.stop()\n",
    "    return pileup, timer.elapsed\n",
    "dview['call_snps'] = call_snps"
   ]
  },
  {
   "cell_type": "code",
   "execution_count": 0,
   "metadata": {
    "collapsed": false
   },
   "outputs": [],
   "source": [
    "args = [samtools, \n",
    "        assembly, \n",
    "        bam_rmdup_files, \n",
    "        bcftools, \n",
    "        \"samtools_1.1.vcf.gz\", \n",
    "        analysis_dir]\n",
    "samtools_job = lview.apply_async(call_snps, args)"
   ]
  },
  {
   "cell_type": "code",
   "execution_count": 0,
   "metadata": {
    "collapsed": false
   },
   "outputs": [],
   "source": [
    "print samtools_job.ready()"
   ]
  },
  {
   "cell_type": "code",
   "execution_count": 0,
   "metadata": {
    "collapsed": false
   },
   "outputs": [],
   "source": []
  }
 ],
 "metadata": {
  "kernelspec": {
   "display_name": "Python 3",
   "language": "python",
   "name": "python3"
  },
  "language_info": {
   "codemirror_mode": {
    "name": "ipython",
    "version": 3
   },
   "file_extension": ".py",
   "mimetype": "text/x-python",
   "name": "python",
   "nbconvert_exporter": "python",
   "pygments_lexer": "ipython3",
   "version": "3.4.3"
  }
 },
 "nbformat": 4,
 "nbformat_minor": 0
}
