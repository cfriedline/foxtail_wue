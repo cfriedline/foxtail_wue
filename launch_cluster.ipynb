{
 "metadata": {
  "name": "",
  "signature": "sha256:05d94c31872a3f988939693f259bfd5d31bf2462993608d25bb0fe818381c3fc"
 },
 "nbformat": 3,
 "nbformat_minor": 0,
 "worksheets": [
  {
   "cells": [
    {
     "cell_type": "code",
     "collapsed": false,
     "input": [
      "profile=\"huge\""
     ],
     "language": "python",
     "metadata": {},
     "outputs": [],
     "prompt_number": ""
    },
    {
     "cell_type": "code",
     "collapsed": false,
     "input": [
      "qhost = !qhost | grep godel"
     ],
     "language": "python",
     "metadata": {},
     "outputs": [],
     "prompt_number": ""
    },
    {
     "cell_type": "code",
     "collapsed": false,
     "input": [
      "controller_script = \"/tmp/ipcontroller.sh\"\n",
      "with open(controller_script, \"w\") as o:\n",
      "    o.write(\"ipcontroller --profile=%s\\n\" % profile)\n",
      "!chmod +x $controller_script"
     ],
     "language": "python",
     "metadata": {},
     "outputs": [],
     "prompt_number": ""
    },
    {
     "cell_type": "code",
     "collapsed": false,
     "input": [
      "!qdel ipcontroller\n",
      "!qdel iengine\n",
      "!rm ipengine*\n",
      "!rm ipcontroller*"
     ],
     "language": "python",
     "metadata": {},
     "outputs": [],
     "prompt_number": ""
    },
    {
     "cell_type": "code",
     "collapsed": false,
     "input": [
      "import time, tempfile, os\n",
      "cmd = \"qsub -o /tmp -e /tmp -cwd -V -N ipcontroller -q godel199@godel97 %s\" % controller_script\n",
      "print cmd\n",
      "!$cmd\n",
      "time.sleep(10)\n",
      "temp_files = []\n",
      "for elem in [x.split() for x in qhost]:\n",
      "    host = elem[0]\n",
      "    cpus = int(elem[2])\n",
      "    if cpus > 8:\n",
      "        tmp = tempfile.NamedTemporaryFile(delete=False)\n",
      "        temp_files.append(tmp.name)\n",
      "        tmp.write(\"pkill -9 ipengine\\n\")\n",
      "        for i in xrange(cpus):\n",
      "            tmp.write(\"ipengine --profile=%s&\\nsleep 5\\n\" % profile)\n",
      "        tmp.write(\"sleep 365d\\n\")\n",
      "        tmp.close()\n",
      "        q = \"all.q\"\n",
      "        if host == \"godel97\" or host == \"godel199\":\n",
      "            q = \"godel199\"\n",
      "        cmd = \"qsub -o /tmp -e /tmp -cwd -V -N ipengine -q %s@%s %s\" % (q, host, tmp.name)\n",
      "        print cmd\n",
      "        !chmod +x {tmp.name}\n",
      "        !$cmd"
     ],
     "language": "python",
     "metadata": {},
     "outputs": [],
     "prompt_number": ""
    },
    {
     "cell_type": "code",
     "collapsed": false,
     "input": [
      "total_cpus = 0\n",
      "for elem in [x.split() for x in qhost]:\n",
      "    total_cpus += int(elem[2])\n",
      "total_cpus"
     ],
     "language": "python",
     "metadata": {},
     "outputs": [],
     "prompt_number": ""
    },
    {
     "cell_type": "markdown",
     "metadata": {},
     "source": [
      "##Check size of the cluster"
     ]
    },
    {
     "cell_type": "code",
     "collapsed": false,
     "input": [
      "from datetime import datetime\n",
      "from IPython.parallel import Client\n",
      "rc = Client(profile=profile)"
     ],
     "language": "python",
     "metadata": {},
     "outputs": [],
     "prompt_number": ""
    },
    {
     "cell_type": "code",
     "collapsed": false,
     "input": [
      "dview = rc[:]\n",
      "print len(dview)"
     ],
     "language": "python",
     "metadata": {},
     "outputs": [],
     "prompt_number": ""
    },
    {
     "cell_type": "code",
     "collapsed": false,
     "input": [
      "while (1):\n",
      "    print datetime.now().time(), len(rc[:])\n",
      "    time.sleep(10)"
     ],
     "language": "python",
     "metadata": {},
     "outputs": [],
     "prompt_number": ""
    },
    {
     "cell_type": "markdown",
     "metadata": {},
     "source": [
      "## Kill ipengines"
     ]
    },
    {
     "cell_type": "code",
     "collapsed": false,
     "input": [
      "exclude = {\"godel21\", \"godel25\"}\n",
      "kill_file = \"/home/cfriedline/ipython/kill_ipengine.sh\"\n",
      "with open(kill_file, \"w\") as o:\n",
      "    o.write(\"%s\\n\" % \"kill -9 `ps aux | grep '[I]Python.parallel.engine' | awk '{print $2}'`\")\n",
      "for host in qhost:\n",
      "    host = host.split()[0].strip()\n",
      "    if host not in exclude:\n",
      "        x = !ssh {host} bash {kill_file}\n",
      "        print host"
     ],
     "language": "python",
     "metadata": {},
     "outputs": [],
     "prompt_number": ""
    },
    {
     "cell_type": "code",
     "collapsed": false,
     "input": [
      "exclude = {\"godel21\", \"godel25\"}\n",
      "for host in qhost:\n",
      "    host = host.split()[0].strip()\n",
      "    if not host in exclude:\n",
      "        x = !ssh {host} ps aux | grep samtools\n",
      "        if len(x) > 0 and 'cfriedline' in x:\n",
      "            !ssh {host} killall -9 sh\n",
      "        print host, x"
     ],
     "language": "python",
     "metadata": {},
     "outputs": [],
     "prompt_number": ""
    },
    {
     "cell_type": "code",
     "collapsed": false,
     "input": [],
     "language": "python",
     "metadata": {},
     "outputs": []
    },
    {
     "cell_type": "code",
     "collapsed": false,
     "input": [],
     "language": "python",
     "metadata": {},
     "outputs": []
    }
   ],
   "metadata": {}
  }
 ]
}