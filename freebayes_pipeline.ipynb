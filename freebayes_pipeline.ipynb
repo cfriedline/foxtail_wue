{
 "metadata": {
  "name": "",
  "signature": "sha256:6e459830359743947618bd1c212390afef098bd7f54afa1d3d1f6244170615d1"
 },
 "nbformat": 3,
 "nbformat_minor": 0,
 "worksheets": [
  {
   "cells": [
    {
     "cell_type": "code",
     "collapsed": false,
     "input": [
      "from IPython.parallel import Client"
     ],
     "language": "python",
     "metadata": {},
     "outputs": [],
     "prompt_number": ""
    },
    {
     "cell_type": "code",
     "collapsed": false,
     "input": [
      "rc = Client(profile=\"huge\")\n",
      "dview = rc[:]\n",
      "lview = rc.load_balanced_view()\n",
      "len(rc)"
     ],
     "language": "python",
     "metadata": {},
     "outputs": [],
     "prompt_number": ""
    },
    {
     "cell_type": "code",
     "collapsed": false,
     "input": [
      "exclude = set([636, 640, 648, 741])\n",
      "active = []\n",
      "for i in xrange(len(rc)):\n",
      "    if i not in exclude:\n",
      "        active.append(i)\n",
      "dview = rc[active]\n",
      "lview = rc.load_balanced_view(targets=active)"
     ],
     "language": "python",
     "metadata": {},
     "outputs": [],
     "prompt_number": ""
    },
    {
     "cell_type": "code",
     "collapsed": false,
     "input": [
      "with dview.sync_imports():\n",
      "    import os\n",
      "    import sys\n",
      "    import socket\n",
      "    import stopwatch"
     ],
     "language": "python",
     "metadata": {},
     "outputs": [],
     "prompt_number": ""
    },
    {
     "cell_type": "code",
     "collapsed": false,
     "input": [
      "bam_dir = \"/data7/eckertlab/projects/ethan/analysis\"\n",
      "analysis_dir = os.path.join(bam_dir, \"freebayes\")\n",
      "assert os.path.exists(analysis_dir)"
     ],
     "language": "python",
     "metadata": {},
     "outputs": [],
     "prompt_number": ""
    },
    {
     "cell_type": "code",
     "collapsed": false,
     "input": [
      "bam_files = !ls $bam_dir/*_sorted.bam"
     ],
     "language": "python",
     "metadata": {},
     "outputs": [],
     "prompt_number": ""
    },
    {
     "cell_type": "code",
     "collapsed": false,
     "input": [
      "freebayes = \"/home/cfriedline/data7/src/freebayes/bin/freebayes\""
     ],
     "language": "python",
     "metadata": {},
     "outputs": [],
     "prompt_number": ""
    },
    {
     "cell_type": "markdown",
     "metadata": {},
     "source": [
      "    usage: /home/cfriedline/data7/src/freebayes/bin/freebayes -f [REFERENCE] [OPTIONS] [BAM FILES] >[OUTPUT]\n",
      "\n",
      "    Bayesian haplotype-based polymorphism discovery.\n",
      "\n",
      "    parameters:\n",
      "\n",
      "       -h --help       For a complete description of options.\n",
      "\n",
      "    citation: Erik Garrison, Gabor Marth\n",
      "              \"Haplotype-based variant detection from short-read sequencing\"\n",
      "              arXiv:1207.3907 (http://arxiv.org/abs/1207.3907)\n",
      "\n",
      "    author:   Erik Garrison <erik.garrison@bc.edu>, Marth Lab, Boston College, 2010-2014\n",
      "    version:  v0.9.18-17-ga9cd9c6-dirty"
     ]
    },
    {
     "cell_type": "code",
     "collapsed": false,
     "input": [
      "@lview.remote()\n",
      "def remove_duplicates(args):\n",
      "    sorted_bam, analysis_dir = args\n",
      "    samtools = \"/home/cfriedline/data7/src/samtools-0.1.19/samtools\"\n",
      "    out = os.path.join(analysis_dir, \"%s_rmdup.bam\" % sorted_bam)\n",
      "    !$samtools rmdup -s $sorted_bam $out\n",
      "    !$samtools index $out\n",
      "    return out"
     ],
     "language": "python",
     "metadata": {},
     "outputs": [],
     "prompt_number": ""
    },
    {
     "cell_type": "code",
     "collapsed": false,
     "input": [
      "rmdup_jobs = []\n",
      "for b in bam_files:\n",
      "    rmdup_jobs.append(remove_duplicates(b))"
     ],
     "language": "python",
     "metadata": {},
     "outputs": [],
     "prompt_number": ""
    },
    {
     "cell_type": "code",
     "collapsed": false,
     "input": [
      "ready = 0\n",
      "for x in rmdup_jobs:\n",
      "    if x.ready():\n",
      "        ready += 1\n",
      "print \"%d/%d\" % (ready, len(rmdup_jobs))"
     ],
     "language": "python",
     "metadata": {},
     "outputs": [],
     "prompt_number": ""
    },
    {
     "cell_type": "code",
     "collapsed": false,
     "input": [
      "assembly = \"/data7/cfriedline/assemblies/foxtail2/Green_26_ATCGCGCAA.fastq_31_data_31/contigs.fa_in_map.fa\""
     ],
     "language": "python",
     "metadata": {},
     "outputs": [],
     "prompt_number": ""
    },
    {
     "cell_type": "code",
     "collapsed": false,
     "input": [
      "bam_rmdup_files = !ls $analysis_dir/*_rmdup.bam"
     ],
     "language": "python",
     "metadata": {},
     "outputs": [],
     "prompt_number": ""
    },
    {
     "cell_type": "code",
     "collapsed": false,
     "input": [
      "bam_string = \"-b \" + \" -b \".join(bam_rmdup_files)"
     ],
     "language": "python",
     "metadata": {},
     "outputs": [],
     "prompt_number": ""
    },
    {
     "cell_type": "code",
     "collapsed": false,
     "input": [
      "@lview.remote()\n",
      "def run_freebayes(freebayes, freebayes_args, assembly, bam_string, analysis_dir, out_vcf):\n",
      "    out = os.path.join(analysis_dir, out_vcf)\n",
      "    cmd = \"%s -f %s %s %s > %s\" % (freebayes,\n",
      "                                   assembly,\n",
      "                                   freebayes_args,\n",
      "                                   bam_string, \n",
      "                                   out)\n",
      "    !$cmd\n",
      "    return out"
     ],
     "language": "python",
     "metadata": {},
     "outputs": [],
     "prompt_number": ""
    },
    {
     "cell_type": "markdown",
     "metadata": {},
     "source": [
      "##Run default freebayes"
     ]
    },
    {
     "cell_type": "code",
     "collapsed": false,
     "input": [
      "fb = run_freebayes(freebayes, \n",
      "                   \"\", \n",
      "                   assembly, \n",
      "                   bam_string, \n",
      "                   analysis_dir, \n",
      "                   \"foxtail_wue_default.vcf\")"
     ],
     "language": "python",
     "metadata": {},
     "outputs": [],
     "prompt_number": ""
    },
    {
     "cell_type": "code",
     "collapsed": false,
     "input": [
      "fb.ready()"
     ],
     "language": "python",
     "metadata": {},
     "outputs": [],
     "prompt_number": ""
    },
    {
     "cell_type": "markdown",
     "metadata": {},
     "source": [
      "##Write population file for freebayes"
     ]
    },
    {
     "cell_type": "code",
     "collapsed": false,
     "input": [
      "with open(os.path.join(analysis_dir, \"freebayes_pops.txt\"), \"w\") as o:\n",
      "    for f in bam_rmdup_files:\n",
      "        rgid = os.path.basename(f.split(\"sorted\")[0][:-1])\n",
      "        o.write(\"%s\\t%s\\n\" % (rgid, os.path.basename(f).split(\"_\")[0]))"
     ],
     "language": "python",
     "metadata": {},
     "outputs": [],
     "prompt_number": ""
    },
    {
     "cell_type": "code",
     "collapsed": false,
     "input": [
      "fb_pop = run_freebayes(freebayes, \n",
      "                       \"--populations %s\" % os.path.join(analysis_dir, \"freebayes_pops.txt\"),\n",
      "                       assembly,\n",
      "                       bam_string,\n",
      "                       analysis_dir,\n",
      "                       \"foxtail_wue_pops.vcf\")"
     ],
     "language": "python",
     "metadata": {},
     "outputs": [],
     "prompt_number": ""
    },
    {
     "cell_type": "code",
     "collapsed": false,
     "input": [
      "fb_pop.ready()"
     ],
     "language": "python",
     "metadata": {},
     "outputs": [],
     "prompt_number": ""
    },
    {
     "cell_type": "markdown",
     "metadata": {},
     "source": [
      "###Estimates from Eckert, A. J. et al. Multilocus analyses reveal little evidence for lineage-wide adaptive evolution within major clades of soft pines (Pinus subgenus Strobus). Molecular Ecology 22, 5635\u20135650 (2013).\n",
      "\n"
     ]
    },
    {
     "cell_type": "code",
     "collapsed": false,
     "input": [
      "theta_pi = 0.0021\n",
      "theta_w = 0.0023"
     ],
     "language": "python",
     "metadata": {},
     "outputs": []
    },
    {
     "cell_type": "code",
     "collapsed": false,
     "input": [
      "fb_pop_theta_pi = run_freebayes(freebayes, \n",
      "                       \"--populations %s --theta %f\" % (os.path.join(analysis_dir, \"freebayes_pops.txt\"),\n",
      "                                                        theta_pi),\n",
      "                       assembly,\n",
      "                       bam_string,\n",
      "                       bam_dir,\n",
      "                       \"foxtail_wue_pops_theta_pi_%f.vcf\" % theta_pi)"
     ],
     "language": "python",
     "metadata": {},
     "outputs": [],
     "prompt_number": ""
    },
    {
     "cell_type": "code",
     "collapsed": false,
     "input": [
      "fb_pop_theta_w = run_freebayes(freebayes, \n",
      "                       \"--populations %s --theta %f\" % (os.path.join(analysis_dir, \"freebayes_pops.txt\"),\n",
      "                                                        theta_w),\n",
      "                       assembly,\n",
      "                       bam_string,\n",
      "                       bam_dir,\n",
      "                       \"foxtail_wue_pops_theta_w_%f.vcf\" % theta_w)"
     ],
     "language": "python",
     "metadata": {},
     "outputs": [],
     "prompt_number": ""
    },
    {
     "cell_type": "code",
     "collapsed": false,
     "input": [
      "fb_pop_theta_w_input_vcf = run_freebayes(freebayes, \n",
      "                       \"--populations %s --theta %f --variant-input %s\" % (os.path.join(analysis_dir, \"freebayes_pops.txt\"),\n",
      "                                                        theta_w,\n",
      "                                                        '/home/cfriedline/data7/eckertlab/foxtail/individuals_all/Green.raw.vcf'),\n",
      "                       assembly,\n",
      "                       bam_string,\n",
      "                       bam_dir,\n",
      "                       \"foxtail_wue_pops_theta_w_%f_input_vcf.vcf\" % theta_w)"
     ],
     "language": "python",
     "metadata": {},
     "outputs": [],
     "prompt_number": ""
    },
    {
     "cell_type": "code",
     "collapsed": false,
     "input": [
      "[x.stdout for x in (fb_pop_theta_pi, fb_pop_theta_w, fb_pop_theta_w_input_vcf)]"
     ],
     "language": "python",
     "metadata": {},
     "outputs": []
    }
   ],
   "metadata": {}
  }
 ]
}