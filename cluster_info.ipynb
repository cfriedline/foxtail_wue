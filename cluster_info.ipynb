{
 "cells": [],
 "metadata": {
  "name": "",
  "signature": "sha256:86c945b687c59fb4b58264320ac81f9efbd3a86c36e271a3f254dfee91f5ebaf"
 },
 "nbformat": 3,
 "nbformat_minor": 0,
 "worksheets": [
  {
   "cells": [
    {
     "cell_type": "code",
     "input": [
      "from IPython.parallel import Client, DirectView\n",
      "import os, socket\n",
      "import stopit"
     ],
     "language": "python",
     "metadata": {},
     "outputs": []
    },
    {
     "cell_type": "code",
     "input": [
      "rc = Client(profile=\"huge\")\n",
      "dview = rc[:]\n",
      "lview = rc.load_balanced_view()\n",
      "len(rc)"
     ],
     "language": "python",
     "metadata": {},
     "outputs": [],
     "prompt_number": ""
    },
    {
     "cell_type": "code",
     "input": [
      "def get_info():\n",
      "    import os, socket\n",
      "    return os.getpid, socket.gethostname()\n",
      "dview['get_info'] = get_info"
     ],
     "language": "python",
     "metadata": {},
     "outputs": [],
     "prompt_number": ""
    },
    {
     "cell_type": "code",
     "input": [
      "res = dview.apply_async(get_info)"
     ],
     "language": "python",
     "metadata": {},
     "outputs": [],
     "prompt_number": ""
    },
    {
     "cell_type": "code",
     "input": [
      "exclude = set()\n",
      "active\n",
      "for x in xrange(len(rc)):\n",
      "    with stopit.ThreadingTimeout(5) as to_ctx_mgr:\n",
      "        try:\n",
      "            print x, rc[x].apply(os.getpid).r\n",
      "        except:\n",
      "            exclude.add(x)"
     ],
     "language": "python",
     "metadata": {},
     "outputs": [],
     "prompt_number": ""
    },
    {
     "cell_type": "code",
     "input": [
      "sorted(exclude)"
     ],
     "language": "python",
     "metadata": {},
     "outputs": [],
     "prompt_number": ""
    },
    {
     "cell_type": "code",
     "input": [
      "qs = rc.queue_status()\n",
      "idle = [eid for eid in sorted(qs)[:-1] if qs[eid]['queue'] and qs[eid]['tasks']]\n",
      "idle"
     ],
     "language": "python",
     "metadata": {},
     "outputs": [],
     "prompt_number": ""
    },
    {
     "cell_type": "code",
     "input": [
      "qs = rc.queue_status()\n",
      "idle = [eid for eid in sorted(qs)[:-1] if not qs[eid]['queue'] and not qs[eid]['tasks']]"
     ],
     "language": "python",
     "metadata": {},
     "outputs": [],
     "prompt_number": ""
    },
    {
     "cell_type": "code",
     "input": [],
     "language": "python",
     "metadata": {},
     "outputs": []
    }
   ]
  }
 ]
}