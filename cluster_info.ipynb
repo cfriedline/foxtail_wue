{
 "cells": [
  {
   "cell_type": "code",
   "execution_count": 0,
   "metadata": {
    "collapsed": true
   },
   "outputs": [],
   "source": [
    "from IPython.parallel import Client, DirectView\n",
    "import os, socket\n",
    "import stopit"
   ]
  },
  {
   "cell_type": "code",
   "execution_count": 0,
   "metadata": {
    "collapsed": false
   },
   "outputs": [],
   "source": [
    "rc = Client(profile=\"huge\")\n",
    "dview = rc[:]\n",
    "lview = rc.load_balanced_view()\n",
    "len(rc)"
   ]
  },
  {
   "cell_type": "code",
   "execution_count": 0,
   "metadata": {
    "collapsed": true
   },
   "outputs": [],
   "source": [
    "def get_info():\n",
    "    import os, socket\n",
    "    return os.getpid, socket.gethostname()\n",
    "dview['get_info'] = get_info"
   ]
  },
  {
   "cell_type": "code",
   "execution_count": 0,
   "metadata": {
    "collapsed": true
   },
   "outputs": [],
   "source": [
    "res = dview.apply_async(get_info)"
   ]
  },
  {
   "cell_type": "code",
   "execution_count": 0,
   "metadata": {
    "collapsed": false
   },
   "outputs": [],
   "source": [
    "exclude = set()\n",
    "active\n",
    "for x in xrange(len(rc)):\n",
    "    with stopit.ThreadingTimeout(5) as to_ctx_mgr:\n",
    "        try:\n",
    "            print x, rc[x].apply(os.getpid).r\n",
    "        except:\n",
    "            exclude.add(x)"
   ]
  },
  {
   "cell_type": "code",
   "execution_count": 0,
   "metadata": {
    "collapsed": false
   },
   "outputs": [],
   "source": [
    "sorted(exclude)"
   ]
  },
  {
   "cell_type": "code",
   "execution_count": 0,
   "metadata": {
    "collapsed": false
   },
   "outputs": [],
   "source": [
    "qs = rc.queue_status()\n",
    "idle = [eid for eid in sorted(qs)[:-1] if qs[eid]['queue'] and qs[eid]['tasks']]\n",
    "idle"
   ]
  },
  {
   "cell_type": "code",
   "execution_count": 0,
   "metadata": {
    "collapsed": false
   },
   "outputs": [],
   "source": [
    "qs = rc.queue_status()\n",
    "idle = [eid for eid in sorted(qs)[:-1] if not qs[eid]['queue'] and not qs[eid]['tasks']]"
   ]
  },
  {
   "cell_type": "code",
   "execution_count": 0,
   "metadata": {
    "collapsed": true
   },
   "outputs": [],
   "source": []
  }
 ],
 "metadata": {
  "kernelspec": {
   "display_name": "Python 3",
   "language": "python",
   "name": "python3"
  },
  "language_info": {
   "codemirror_mode": {
    "name": "ipython",
    "version": 3
   },
   "file_extension": ".py",
   "mimetype": "text/x-python",
   "name": "python",
   "nbconvert_exporter": "python",
   "pygments_lexer": "ipython3",
   "version": "3.4.3"
  }
 },
 "nbformat": 4,
 "nbformat_minor": 0
}
