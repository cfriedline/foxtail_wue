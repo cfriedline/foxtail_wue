{
 "cells": [
  {
   "cell_type": "code",
   "execution_count": 0,
   "metadata": {
    "collapsed": true
   },
   "outputs": [],
   "source": [
    "import os, sys\n",
    "from Bio.SeqIO.QualityIO import FastqGeneralIterator\n",
    "import pandas as pd\n",
    "from ipyparallel import Client\n",
    "import numpy as np\n",
    "import scipy as sp"
   ]
  },
  {
   "cell_type": "code",
   "execution_count": 0,
   "metadata": {
    "collapsed": false
   },
   "outputs": [],
   "source": [
    "cd /home/cfriedline/eckertlab/projects/ethan/HiSeq_140603/FASTQ"
   ]
  },
  {
   "cell_type": "code",
   "execution_count": 0,
   "metadata": {
    "collapsed": false
   },
   "outputs": [],
   "source": [
    "raw_fastq = !ls *.gz\n",
    "raw_fastq = [os.path.abspath(x) for x in raw_fastq]"
   ]
  },
  {
   "cell_type": "code",
   "execution_count": 0,
   "metadata": {
    "collapsed": false
   },
   "outputs": [],
   "source": [
    "raw_fastq"
   ]
  },
  {
   "cell_type": "code",
   "execution_count": 0,
   "metadata": {
    "collapsed": false
   },
   "outputs": [],
   "source": [
    "rc = Client(profile=\"sge\")"
   ]
  },
  {
   "cell_type": "code",
   "execution_count": 0,
   "metadata": {
    "collapsed": true
   },
   "outputs": [],
   "source": [
    "lview = rc.load_balanced_view()"
   ]
  },
  {
   "cell_type": "code",
   "execution_count": 0,
   "metadata": {
    "collapsed": true
   },
   "outputs": [],
   "source": [
    "@lview.remote()\n",
    "def get_num_seqs(f):\n",
    "    cmd = \"cat\"\n",
    "    if f.endswith('gz'):\n",
    "        cmd = 'zcat'\n",
    "    res = !{cmd} {f} | wc -l\n",
    "    num = int(res[0])/4\n",
    "    return f, num"
   ]
  },
  {
   "cell_type": "code",
   "execution_count": 0,
   "metadata": {
    "collapsed": true
   },
   "outputs": [],
   "source": [
    "raw_nums = [get_num_seqs(x) for x in raw_fastq]"
   ]
  },
  {
   "cell_type": "code",
   "execution_count": 0,
   "metadata": {
    "collapsed": false
   },
   "outputs": [],
   "source": [
    "[x.ready() for x in raw_nums]"
   ]
  },
  {
   "cell_type": "code",
   "execution_count": 0,
   "metadata": {
    "collapsed": false
   },
   "outputs": [],
   "source": [
    "[x.r for x in raw_nums]"
   ]
  },
  {
   "cell_type": "code",
   "execution_count": 0,
   "metadata": {
    "collapsed": false
   },
   "outputs": [],
   "source": [
    "cd ~/eckertlab/projects/ethan/analysis/samtools1.1"
   ]
  },
  {
   "cell_type": "code",
   "execution_count": 0,
   "metadata": {
    "collapsed": false
   },
   "outputs": [],
   "source": [
    "fastq = !ls | grep 'fastq$' | grep -v Foxtail\n",
    "fastq = [os.path.abspath(x) for x in fastq]"
   ]
  },
  {
   "cell_type": "code",
   "execution_count": 0,
   "metadata": {
    "collapsed": false
   },
   "outputs": [],
   "source": [
    "fastq_nums = [get_num_seqs(x) for x in fastq]"
   ]
  },
  {
   "cell_type": "code",
   "execution_count": 0,
   "metadata": {
    "collapsed": false
   },
   "outputs": [],
   "source": [
    "sum([x.ready() for x in fastq_nums])"
   ]
  },
  {
   "cell_type": "code",
   "execution_count": 0,
   "metadata": {
    "collapsed": false
   },
   "outputs": [],
   "source": [
    "sample_data = []\n",
    "for x in fastq_nums:\n",
    "    sample_data.append({\"ind\": os.path.basename(x.r[0]), \n",
    "                       'num': int(x.r[1])})"
   ]
  },
  {
   "cell_type": "code",
   "execution_count": 0,
   "metadata": {
    "collapsed": false
   },
   "outputs": [],
   "source": [
    "sample_df = pd.DataFrame(sample_data)"
   ]
  },
  {
   "cell_type": "code",
   "execution_count": 0,
   "metadata": {
    "collapsed": false
   },
   "outputs": [],
   "source": [
    "sample_df['fam'] = sample_df.ind.apply(lambda x: x.split(\"_\")[0])\n",
    "sample_df = sample_df.drop(sample_df[sample_df.fam=='None'].index)"
   ]
  },
  {
   "cell_type": "code",
   "execution_count": 0,
   "metadata": {
    "collapsed": false
   },
   "outputs": [],
   "source": [
    "summary_data = []\n",
    "for group, df in sample_df.groupby('fam'):\n",
    "    summary_data.append({\n",
    "          'group': group,\n",
    "            'mean_num': np.mean(df.num),\n",
    "            'std_num': np.std(df.num)\n",
    "        })"
   ]
  },
  {
   "cell_type": "code",
   "execution_count": 0,
   "metadata": {
    "collapsed": false
   },
   "outputs": [],
   "source": [
    "summary_df = pd.DataFrame(summary_data)"
   ]
  },
  {
   "cell_type": "code",
   "execution_count": 0,
   "metadata": {
    "collapsed": false
   },
   "outputs": [],
   "source": [
    "summary_df.index = summary_df.group"
   ]
  },
  {
   "cell_type": "code",
   "execution_count": 0,
   "metadata": {
    "collapsed": false
   },
   "outputs": [],
   "source": [
    "summary_df.head()"
   ]
  },
  {
   "cell_type": "code",
   "execution_count": 0,
   "metadata": {
    "collapsed": false
   },
   "outputs": [],
   "source": [
    "@lview.remote()\n",
    "def get_read_lens(f):\n",
    "    from Bio.SeqIO.QualityIO import FastqGeneralIterator\n",
    "    import numpy as np\n",
    "    \n",
    "    def convert_qual(q):\n",
    "        return ord(q)-33\n",
    "\n",
    "    lens = []\n",
    "    quals = []\n",
    "    with open(f, \"rU\") as h:\n",
    "        for title, seq, qual in FastqGeneralIterator(h):\n",
    "            avg_qual = np.mean([convert_qual(x) for x in qual])\n",
    "            lens.append(len(seq))\n",
    "            quals.append(avg_qual)\n",
    "    return f, np.array(lens), np.array(quals)"
   ]
  },
  {
   "cell_type": "code",
   "execution_count": 0,
   "metadata": {
    "collapsed": false
   },
   "outputs": [],
   "source": [
    "read_summary = [get_read_lens(x) for x in fastq]"
   ]
  },
  {
   "cell_type": "code",
   "execution_count": 0,
   "metadata": {
    "collapsed": false
   },
   "outputs": [],
   "source": [
    "read_data = []\n",
    "for x in read_summary:\n",
    "    res = x.r\n",
    "    read_data.append({\n",
    "            'indv': os.path.basename(res[0]),\n",
    "            'lens': res[1],\n",
    "            'quals': res[2]\n",
    "        })"
   ]
  },
  {
   "cell_type": "code",
   "execution_count": 0,
   "metadata": {
    "collapsed": false,
    "run_control": {
     "marked": false
    }
   },
   "outputs": [],
   "source": [
    "read_df = pd.DataFrame(read_data)"
   ]
  },
  {
   "cell_type": "code",
   "execution_count": 0,
   "metadata": {
    "collapsed": false
   },
   "outputs": [],
   "source": [
    "read_df['fam'] = read_df.indv.apply(lambda x: x.split(\"_\")[0])"
   ]
  },
  {
   "cell_type": "code",
   "execution_count": 0,
   "metadata": {
    "collapsed": true
   },
   "outputs": [],
   "source": [
    "read_df = read_df.drop(read_df[read_df.fam=='None'].index)"
   ]
  },
  {
   "cell_type": "code",
   "execution_count": 0,
   "metadata": {
    "collapsed": false
   },
   "outputs": [],
   "source": [
    "for group, df in read_df.groupby('fam'):\n",
    "    lens = []\n",
    "    quals = []\n",
    "    for x in df.lens:\n",
    "        lens.extend(x)\n",
    "        \n",
    "    for x in df.quals:\n",
    "        quals.extend(x)\n",
    "        \n",
    "    summary_df.ix[group, 'mean_len'] = np.mean(lens)\n",
    "    summary_df.ix[group, 'std_len'] = np.std(lens)\n",
    "    summary_df.ix[group, 'mean_qual'] = np.mean(quals)\n",
    "    summary_df.ix[group, 'std_qual'] = np.std(quals)\n",
    "    print(group)"
   ]
  },
  {
   "cell_type": "code",
   "execution_count": 0,
   "metadata": {
    "collapsed": false
   },
   "outputs": [],
   "source": [
    "summary_df"
   ]
  },
  {
   "cell_type": "code",
   "execution_count": 0,
   "metadata": {
    "collapsed": false
   },
   "outputs": [],
   "source": [
    "java = \"/home/cfriedline/g/src/jdk1.8.0_60/bin/java\"\n",
    "picard = \"/home/cfriedline/g/src/picard-tools-2.0.1/picard.jar\""
   ]
  },
  {
   "cell_type": "code",
   "execution_count": 0,
   "metadata": {
    "collapsed": false
   },
   "outputs": [],
   "source": [
    "assembly = \"/home/cfriedline/g/eassemblies/foxtail2/Green_26_ATCGCGCAA.fastq_31_data_31/contigs.fa_in_map.fa\"\n",
    "assert os.path.exists(assembly)"
   ]
  },
  {
   "cell_type": "code",
   "execution_count": 0,
   "metadata": {
    "collapsed": false
   },
   "outputs": [],
   "source": [
    "bams = !ls ../../analysis/*.bam\n",
    "bams = [os.path.abspath(x) for x in bams]"
   ]
  },
  {
   "cell_type": "code",
   "execution_count": 0,
   "metadata": {
    "collapsed": false
   },
   "outputs": [],
   "source": [
    "bams[0]"
   ]
  },
  {
   "cell_type": "code",
   "execution_count": 0,
   "metadata": {
    "collapsed": false
   },
   "outputs": [],
   "source": [
    "@lview.remote()\n",
    "def get_alignment_metrics(args):\n",
    "    java, picard, assembly, bam = args\n",
    "    out = \"%s.alignmentmetrics\" % bam\n",
    "    !$java -jar $picard CollectAlignmentSummaryMetrics \\\n",
    "    R={assembly} \\\n",
    "    I={bam} \\\n",
    "    O={out}\n",
    "    return out"
   ]
  },
  {
   "cell_type": "code",
   "execution_count": 0,
   "metadata": {
    "collapsed": false
   },
   "outputs": [],
   "source": [
    "metrics = [get_alignment_metrics((java, picard, assembly, x)) for x in bams]"
   ]
  },
  {
   "cell_type": "code",
   "execution_count": 0,
   "metadata": {
    "collapsed": false
   },
   "outputs": [],
   "source": [
    "sum([x.ready() for x in metrics])"
   ]
  },
  {
   "cell_type": "code",
   "execution_count": 0,
   "metadata": {
    "collapsed": false
   },
   "outputs": [],
   "source": [
    "pd.read_csv(metrics[0].r, sep=\"\\t\", comment=\"#\").columns"
   ]
  },
  {
   "cell_type": "code",
   "execution_count": 0,
   "metadata": {
    "collapsed": false
   },
   "outputs": [],
   "source": [
    "percent_aligned = {}\n",
    "for m in metrics:\n",
    "    fam = os.path.basename(m.r).split(\"_\")[0]\n",
    "    if not fam in percent_aligned:\n",
    "        percent_aligned[fam] = []\n",
    "    percent_aligned[fam].append(pd.read_csv(m.r, sep=\"\\t\", comment=\"#\")['PCT_PF_READS_ALIGNED'].values[0])"
   ]
  },
  {
   "cell_type": "code",
   "execution_count": 0,
   "metadata": {
    "collapsed": false
   },
   "outputs": [],
   "source": [
    "aligned_df = pd.DataFrame([(k, np.mean(v), np.std(v)) for k,v in percent_aligned.items()],\n",
    "            columns = [\"fam\", \"mean_aln\", \"std_aln\"])"
   ]
  },
  {
   "cell_type": "code",
   "execution_count": 0,
   "metadata": {
    "collapsed": true
   },
   "outputs": [],
   "source": [
    "aligned_df.index = aligned_df.fam"
   ]
  },
  {
   "cell_type": "code",
   "execution_count": 0,
   "metadata": {
    "collapsed": true
   },
   "outputs": [],
   "source": [
    "aligned_df = aligned_df.drop(\"None\")"
   ]
  },
  {
   "cell_type": "code",
   "execution_count": 0,
   "metadata": {
    "collapsed": false
   },
   "outputs": [],
   "source": [
    "df2 = summary_df.join(aligned_df)"
   ]
  },
  {
   "cell_type": "code",
   "execution_count": 0,
   "metadata": {
    "collapsed": false
   },
   "outputs": [],
   "source": [
    "df2"
   ]
  },
  {
   "cell_type": "code",
   "execution_count": 0,
   "metadata": {
    "collapsed": true
   },
   "outputs": [],
   "source": []
  }
 ],
 "metadata": {
  "kernelspec": {
   "display_name": "Python 3",
   "language": "python",
   "name": "python3"
  },
  "language_info": {
   "codemirror_mode": {
    "name": "ipython",
    "version": 3
   },
   "file_extension": ".py",
   "mimetype": "text/x-python",
   "name": "python",
   "nbconvert_exporter": "python",
   "pygments_lexer": "ipython3",
   "version": "3.4.3"
  }
 },
 "nbformat": 4,
 "nbformat_minor": 0
}
