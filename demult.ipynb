{
 "cells": [
  {
   "cell_type": "code",
   "execution_count": 0,
   "metadata": {
    "collapsed": false
   },
   "outputs": [],
   "source": [
    "file_dir = \"/data7/eckertlab/projects/ethan/HiSeq_140603/\""
   ]
  },
  {
   "cell_type": "code",
   "execution_count": 0,
   "metadata": {
    "collapsed": false
   },
   "outputs": [],
   "source": [
    "from IPython.parallel import Client\n",
    "rc = Client(profile=\"sge\")\n",
    "dview = rc[:] #all nodes\n",
    "lview = rc.load_balanced_view() # for load balancing"
   ]
  },
  {
   "cell_type": "code",
   "execution_count": 0,
   "metadata": {
    "collapsed": false
   },
   "outputs": [],
   "source": [
    "print \"%d nodes in the cluster\" % len(rc.ids)\n",
    "import socket"
   ]
  },
  {
   "cell_type": "code",
   "execution_count": 0,
   "metadata": {
    "collapsed": false
   },
   "outputs": [],
   "source": [
    "from IPython.display import FileLink, FileLinks"
   ]
  },
  {
   "cell_type": "code",
   "execution_count": 0,
   "metadata": {
    "collapsed": false
   },
   "outputs": [],
   "source": [
    "with dview.sync_imports():\n",
    "    import stopwatch\n",
    "    import numpy\n",
    "    import numpy as np\n",
    "    import scipy\n",
    "    import pandas\n",
    "    import gzip\n",
    "    import os\n",
    "    import tempfile\n",
    "    import shutil\n",
    "    import socket\n",
    "    from Bio.SeqIO.QualityIO import FastqGeneralIterator\n",
    "    from collections import deque, defaultdict\n",
    "    import multiprocessing \n",
    "    from multiprocessing import Pool, Manager\n",
    "    import traceback\n",
    "    from itertools import izip"
   ]
  },
  {
   "cell_type": "code",
   "execution_count": 0,
   "metadata": {
    "collapsed": false
   },
   "outputs": [],
   "source": [
    "processed = !find $file_dir -type f | grep processed.fastq\\$ | grep -v test\n",
    "processed = sorted(processed)\n",
    "processed"
   ]
  },
  {
   "cell_type": "code",
   "execution_count": 0,
   "metadata": {
    "collapsed": false
   },
   "outputs": [],
   "source": [
    "#get single ended samples\n",
    "singles = []\n",
    "for p in processed:\n",
    "    if \"R1\" in p:\n",
    "        test = p.replace(\"R1\", \"R2\")\n",
    "        if not os.path.exists(test):\n",
    "            singles.append(p)\n",
    "singles"
   ]
  },
  {
   "cell_type": "code",
   "execution_count": 0,
   "metadata": {
    "collapsed": false
   },
   "outputs": [],
   "source": [
    "barcode_map = {}\n",
    "for f in singles:\n",
    "    base = os.path.basename(f)\n",
    "    num = base.split(\"_\")[0][-1]\n",
    "    barcode = os.path.join(os.path.dirname(f), \"ethan_library%s.csv\" % num)\n",
    "    barcode_map[f] = barcode\n",
    "barcode_map\n",
    "dview['barcode_map'] = barcode_map"
   ]
  },
  {
   "cell_type": "code",
   "execution_count": 0,
   "metadata": {
    "collapsed": false
   },
   "outputs": [],
   "source": [
    "def format_fastq_tuple(title, seq, qual):\n",
    "    assert len(seq) == len(qual)\n",
    "    return \"@%s\\n%s\\n+\\n%s\\n\" % (title, seq, qual)\n",
    "dview['format_fastq_tuple'] = format_fastq_tuple"
   ]
  },
  {
   "cell_type": "code",
   "execution_count": 0,
   "metadata": {
    "collapsed": false
   },
   "outputs": [],
   "source": [
    "def get_writers(barcodes):\n",
    "    w = defaultdict()\n",
    "    for b, name in barcodes.items():\n",
    "        w[b] = [name, tempfile.NamedTemporaryFile(delete=False)]\n",
    "    return w\n",
    "\n",
    "def get_barcodes(f):\n",
    "    bcs = defaultdict()\n",
    "    bc_lens = set()\n",
    "    b = os.path.join(os.path.dirname(f), barcode_map[f])\n",
    "    print b\n",
    "    h = open(b)\n",
    "    h.readline()\n",
    "    for line in h:\n",
    "        line = line.strip()\n",
    "        data = line.split(\"\\t\")\n",
    "        if len(data) > 1: #skip blank lines\n",
    "            if \",\" in data[0]:\n",
    "                data[0] = data[0].replace(\" \", \"\").replace(\",\", \"-\")\n",
    "            bc = data[4].upper().replace(\"CTCTTTCCCTACACGACGCTCTTCCGATCT\", \"\")[:-1]\n",
    "            bc_lens.add(len(bc))\n",
    "            bcs[bc] = data[1] + \"_\" + data[0]\n",
    "        \n",
    "    return bcs, bc_lens    \n",
    "\n",
    "def check_barcodes(barcodes):\n",
    "    for i in barcodes.keys():\n",
    "        for j in barcodes.keys():\n",
    "            if i != j:\n",
    "                assert not j.startswith(i)\n",
    "                \n",
    "def copy_file(src, dst):\n",
    "    shutil.copy(src, dst)\n",
    "                \n",
    "def demult(f):\n",
    "    print f\n",
    "    hostname = socket.gethostname()\n",
    "    timer = stopwatch.Timer()\n",
    "    out_dir = os.path.dirname(f)\n",
    "    barcodes, barcode_lens = get_barcodes(f)\n",
    "    check_barcodes(barcodes)\n",
    "    writers = get_writers(barcodes)\n",
    "    count = 0\n",
    "    found = defaultdict(int)\n",
    "    for title, seq, qual in FastqGeneralIterator(open(f)):\n",
    "        for l in barcode_lens: \n",
    "            bc = seq[0:l]\n",
    "            if bc in barcodes:\n",
    "                found[bc] += 1\n",
    "                w = writers[bc][1]\n",
    "                w.write(format_fastq_tuple(title, seq[l:], qual[l:]))\n",
    "                break\n",
    "            \n",
    "        count += 1\n",
    "            \n",
    "        if count % 10000 == 0:\n",
    "            print hostname, f, count\n",
    "            \n",
    "    print hostname, f, \"copying tmp files\"\n",
    "    \n",
    "    pool = Pool()\n",
    "    out_files = []\n",
    "    for k, v in writers.items():\n",
    "        v[1].close()\n",
    "        if k in found:\n",
    "            copy_timer = stopwatch.Timer()\n",
    "            out_file = os.path.join(out_dir, \"%s_%s.fastq\" % (v[0], k))\n",
    "            out_files.append(out_file)\n",
    "            pool.apply_async(copy_file, (v[1].name, out_file))\n",
    "            copy_timer.stop()\n",
    "    pool.close()\n",
    "    pool.join()\n",
    "    for k, v in writers.items():\n",
    "        os.remove(v[1].name)\n",
    "    timer.stop()\n",
    "    print timer.elapsed, out_files\n",
    "    \n",
    "dview['demult'] = demult\n",
    "dview['check_barcodes'] = check_barcodes\n",
    "dview['get_writers'] = get_writers\n",
    "dview['get_barcodes'] = get_barcodes\n",
    "dview['copy_file'] = copy_file"
   ]
  },
  {
   "cell_type": "code",
   "execution_count": 0,
   "metadata": {
    "collapsed": false
   },
   "outputs": [],
   "source": [
    "singles"
   ]
  },
  {
   "cell_type": "code",
   "execution_count": 0,
   "metadata": {
    "collapsed": false
   },
   "outputs": [],
   "source": [
    "results = []\n",
    "for single in singles:\n",
    "#     demult(single)\n",
    "    results.append(lview.apply_async(demult, single))"
   ]
  },
  {
   "cell_type": "code",
   "execution_count": 0,
   "metadata": {
    "collapsed": false
   },
   "outputs": [],
   "source": [
    "for r in results:\n",
    "    print r.ready(), r.metadata.stdout.split(\"\\n\")[-2]\n",
    "    if r.ready():\n",
    "        print r.r"
   ]
  },
  {
   "cell_type": "code",
   "execution_count": 0,
   "metadata": {
    "collapsed": false
   },
   "outputs": [],
   "source": [
    "# demult_dir = \"/home/cfriedline/eckertlab/bccl.csbc.vcu.edu/internal/Eckert/HiSeq_130529\"\n",
    "demult_dir = file_dir"
   ]
  },
  {
   "cell_type": "code",
   "execution_count": 0,
   "metadata": {
    "collapsed": false
   },
   "outputs": [],
   "source": [
    "def count_fastq_reads(f):\n",
    "    lines = !grep -c . $f\n",
    "    return f, int(lines[0])/4\n",
    "dview['count_fastq_reads'] = count_fastq_reads"
   ]
  },
  {
   "cell_type": "code",
   "execution_count": 0,
   "metadata": {
    "collapsed": false
   },
   "outputs": [],
   "source": [
    "count_jobs = []\n",
    "for root, dirs, files in os.walk(demult_dir):\n",
    "    for f in files:\n",
    "        if f.endswith(\"fastq\") and not \"processed\" in f:\n",
    "            count_jobs.append(lview.apply_async(count_fastq_reads, os.path.join(root, f)))"
   ]
  },
  {
   "cell_type": "code",
   "execution_count": 0,
   "metadata": {
    "collapsed": false
   },
   "outputs": [],
   "source": [
    "working  = 0\n",
    "for j in count_jobs:\n",
    "    if not j.ready():\n",
    "        working += 1\n",
    "print \"%d working\" % working"
   ]
  },
  {
   "cell_type": "code",
   "execution_count": 0,
   "metadata": {
    "collapsed": false
   },
   "outputs": [],
   "source": [
    "out_file = os.path.join(demult_dir, \"%s_%s\" % (os.path.basename(demult_dir), \"counts.txt\"))\n",
    "with open(out_file, \"w\") as o:\n",
    "    o.write(\"file\\treads\\n\")\n",
    "    for j in count_jobs:\n",
    "        o.write(\"%s\\n\" % \"\\t\".join([str(x) for x in j.r]))\n",
    "FileLink(out_file)"
   ]
  },
  {
   "cell_type": "code",
   "execution_count": 0,
   "metadata": {
    "collapsed": false
   },
   "outputs": [],
   "source": []
  }
 ],
 "metadata": {
  "kernelspec": {
   "display_name": "Python 3",
   "language": "python",
   "name": "python3"
  },
  "language_info": {
   "codemirror_mode": {
    "name": "ipython",
    "version": 3
   },
   "file_extension": ".py",
   "mimetype": "text/x-python",
   "name": "python",
   "nbconvert_exporter": "python",
   "pygments_lexer": "ipython3",
   "version": "3.4.3"
  }
 },
 "nbformat": 4,
 "nbformat_minor": 0
}
