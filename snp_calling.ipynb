{
 "metadata": {
  "name": "",
  "signature": "sha256:f07896ddccac057b422f543c371e66350a7cc4fd6912bc7578cb881f41a10d49"
 },
 "nbformat": 3,
 "nbformat_minor": 0,
 "worksheets": [
  {
   "cells": [
    {
     "cell_type": "code",
     "collapsed": false,
     "input": [],
     "language": "python",
     "metadata": {},
     "outputs": []
    }
   ],
   "metadata": {}
  }
 ]
}