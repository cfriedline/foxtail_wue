{
 "metadata": {
  "name": "",
  "signature": "sha256:a01763e63460c55192f93e2cf33723ff4c7d2eed1476e5b5cd429f4791e026db"
 },
 "nbformat": 3,
 "nbformat_minor": 0,
 "worksheets": [
  {
   "cells": [
    {
     "cell_type": "code",
     "collapsed": false,
     "input": [
      "from IPython.parallel import Client"
     ],
     "language": "python",
     "metadata": {},
     "outputs": [],
     "prompt_number": ""
    },
    {
     "cell_type": "code",
     "collapsed": false,
     "input": [
      "rc = Client(profile=\"huge\")\n",
      "dview = rc[:]\n",
      "lview = rc.load_balanced_view()\n",
      "len(rc)"
     ],
     "language": "python",
     "metadata": {},
     "outputs": [],
     "prompt_number": ""
    },
    {
     "cell_type": "code",
     "collapsed": false,
     "input": [
      "exclude = set([636, 640, 648, 741])\n",
      "active = []\n",
      "for i in xrange(len(rc)):\n",
      "    if i not in exclude:\n",
      "        active.append(i)\n",
      "dview = rc[active]\n",
      "lview = rc.load_balanced_view(targets=active)"
     ],
     "language": "python",
     "metadata": {},
     "outputs": [],
     "prompt_number": ""
    },
    {
     "cell_type": "code",
     "collapsed": false,
     "input": [
      "with dview.sync_imports():\n",
      "    import os\n",
      "    import sys\n",
      "    import socket\n",
      "    import stopwatch"
     ],
     "language": "python",
     "metadata": {},
     "outputs": [],
     "prompt_number": ""
    },
    {
     "cell_type": "code",
     "collapsed": false,
     "input": [
      "bam_dir = \"/data7/eckertlab/projects/ethan/analysis\""
     ],
     "language": "python",
     "metadata": {},
     "outputs": [],
     "prompt_number": ""
    },
    {
     "cell_type": "code",
     "collapsed": false,
     "input": [
      "bam_files = !ls $bam_dir/*_sorted.bam"
     ],
     "language": "python",
     "metadata": {},
     "outputs": [],
     "prompt_number": ""
    },
    {
     "cell_type": "code",
     "collapsed": false,
     "input": [
      "freebayes = \"/home/cfriedline/data7/src/freebayes/bin/freebayes\""
     ],
     "language": "python",
     "metadata": {},
     "outputs": [],
     "prompt_number": ""
    },
    {
     "cell_type": "markdown",
     "metadata": {},
     "source": [
      "    usage: /home/cfriedline/data7/src/freebayes/bin/freebayes -f [REFERENCE] [OPTIONS] [BAM FILES] >[OUTPUT]\n",
      "\n",
      "    Bayesian haplotype-based polymorphism discovery.\n",
      "\n",
      "    parameters:\n",
      "\n",
      "       -h --help       For a complete description of options.\n",
      "\n",
      "    citation: Erik Garrison, Gabor Marth\n",
      "              \"Haplotype-based variant detection from short-read sequencing\"\n",
      "              arXiv:1207.3907 (http://arxiv.org/abs/1207.3907)\n",
      "\n",
      "    author:   Erik Garrison <erik.garrison@bc.edu>, Marth Lab, Boston College, 2010-2014\n",
      "    version:  v0.9.18-17-ga9cd9c6-dirty"
     ]
    },
    {
     "cell_type": "code",
     "collapsed": false,
     "input": [
      "@lview.remote()\n",
      "def remove_duplicates(sorted_bam):\n",
      "    samtools = \"/home/cfriedline/data7/src/samtools-0.1.19/samtools\"\n",
      "    out = \"%s_rmdup.bam\" % sorted_bam\n",
      "    !$samtools rmdup -s $sorted_bam $out\n",
      "    !$samtools index $out\n",
      "    return out"
     ],
     "language": "python",
     "metadata": {},
     "outputs": [],
     "prompt_number": ""
    },
    {
     "cell_type": "code",
     "collapsed": false,
     "input": [
      "rmdup_jobs = []\n",
      "for b in bam_files:\n",
      "    rmdup_jobs.append(remove_duplicates(b))"
     ],
     "language": "python",
     "metadata": {},
     "outputs": [],
     "prompt_number": ""
    },
    {
     "cell_type": "code",
     "collapsed": false,
     "input": [
      "ready = 0\n",
      "for x in rmdup_jobs:\n",
      "    if x.ready():\n",
      "        ready += 1\n",
      "print \"%d/%d\" % (ready, len(rmdup_jobs))"
     ],
     "language": "python",
     "metadata": {},
     "outputs": [],
     "prompt_number": ""
    },
    {
     "cell_type": "code",
     "collapsed": false,
     "input": [
      "assembly = \"/data7/cfriedline/assemblies/foxtail2/Green_26_ATCGCGCAA.fastq_31_data_31/contigs.fa_in_map.fa\""
     ],
     "language": "python",
     "metadata": {},
     "outputs": [],
     "prompt_number": ""
    },
    {
     "cell_type": "code",
     "collapsed": false,
     "input": [
      "bam_rmdup_files = !ls $bam_dir/*_rmdup.bam"
     ],
     "language": "python",
     "metadata": {},
     "outputs": [],
     "prompt_number": ""
    },
    {
     "cell_type": "code",
     "collapsed": false,
     "input": [
      "bam_string = \"-b \" + \" -b \".join(bam_rmdup_files)"
     ],
     "language": "python",
     "metadata": {},
     "outputs": [],
     "prompt_number": ""
    },
    {
     "cell_type": "code",
     "collapsed": false,
     "input": [
      "@lview.remote()\n",
      "def run_freebayes(freebayes, freebayes_args, assembly, bam_string, bam_dir, out_vcf):\n",
      "    out = os.path.join(bam_dir, out_vcf)\n",
      "    cmd = \"%s -f %s %s %s > %s\" % (freebayes,\n",
      "                                   assembly,\n",
      "                                   freebayes_args,\n",
      "                                   bam_string, \n",
      "                                   out)\n",
      "    !$cmd\n",
      "    return out"
     ],
     "language": "python",
     "metadata": {},
     "outputs": [],
     "prompt_number": ""
    },
    {
     "cell_type": "markdown",
     "metadata": {},
     "source": [
      "##Run default freebayes"
     ]
    },
    {
     "cell_type": "code",
     "collapsed": false,
     "input": [
      "fb = run_freebayes(freebayes, \n",
      "                   \"\", \n",
      "                   assembly, \n",
      "                   bam_string, \n",
      "                   bam_dir, \n",
      "                   \"foxtail_wue_default.vcf\")"
     ],
     "language": "python",
     "metadata": {},
     "outputs": [],
     "prompt_number": ""
    },
    {
     "cell_type": "code",
     "collapsed": false,
     "input": [
      "fb.ready()"
     ],
     "language": "python",
     "metadata": {},
     "outputs": [],
     "prompt_number": ""
    },
    {
     "cell_type": "markdown",
     "metadata": {},
     "source": [
      "##Write population file for freebayes"
     ]
    },
    {
     "cell_type": "code",
     "collapsed": false,
     "input": [
      "with open(os.path.join(bam_dir, \"freebayes_pops.txt\"), \"w\") as o:\n",
      "    for f in bam_rmdup_files:\n",
      "        rgid = os.path.basename(f.split(\"sorted\")[0][:-1])\n",
      "        o.write(\"%s\\t%s\\n\" % (rgid, os.path.basename(f).split(\"_\")[0]))"
     ],
     "language": "python",
     "metadata": {},
     "outputs": [],
     "prompt_number": ""
    },
    {
     "cell_type": "code",
     "collapsed": false,
     "input": [
      "fb_pop = run_freebayes(freebayes, \n",
      "                       \"--populations %s\" % os.path.join(bam_dir, \"freebayes_pops.txt\"),\n",
      "                       assembly,\n",
      "                       bam_string,\n",
      "                       bam_dir,\n",
      "                       \"foxtail_wue_pops.vcf\")"
     ],
     "language": "python",
     "metadata": {},
     "outputs": [],
     "prompt_number": ""
    },
    {
     "cell_type": "code",
     "collapsed": false,
     "input": [
      "fb_pop.ready()"
     ],
     "language": "python",
     "metadata": {},
     "outputs": [],
     "prompt_number": ""
    },
    {
     "cell_type": "markdown",
     "metadata": {},
     "source": [
      "###Estimates from Eckert, A. J. et al. Multilocus analyses reveal little evidence for lineage-wide adaptive evolution within major clades of soft pines (Pinus subgenus Strobus). Molecular Ecology 22, 5635\u20135650 (2013).\n",
      "\n"
     ]
    },
    {
     "cell_type": "code",
     "collapsed": false,
     "input": [
      "theta_pi = 0.0021\n",
      "theta_w = 0.0023"
     ],
     "language": "python",
     "metadata": {},
     "outputs": []
    },
    {
     "cell_type": "code",
     "collapsed": false,
     "input": [
      "fb_pop_theta_pi = run_freebayes(freebayes, \n",
      "                       \"--populations %s --theta %f\" % (os.path.join(bam_dir, \"freebayes_pops.txt\"),\n",
      "                                                        theta_pi),\n",
      "                       assembly,\n",
      "                       bam_string,\n",
      "                       bam_dir,\n",
      "                       \"foxtail_wue_pops_theta_pi_%f.vcf\" % theta_pi)"
     ],
     "language": "python",
     "metadata": {},
     "outputs": [],
     "prompt_number": ""
    },
    {
     "cell_type": "code",
     "collapsed": false,
     "input": [
      "fb_pop_theta_w = run_freebayes(freebayes, \n",
      "                       \"--populations %s --theta %f\" % (os.path.join(bam_dir, \"freebayes_pops.txt\"),\n",
      "                                                        theta_w),\n",
      "                       assembly,\n",
      "                       bam_string,\n",
      "                       bam_dir,\n",
      "                       \"foxtail_wue_pops_theta_w_%f.vcf\" % theta_w)"
     ],
     "language": "python",
     "metadata": {},
     "outputs": [],
     "prompt_number": ""
    },
    {
     "cell_type": "code",
     "collapsed": false,
     "input": [
      "fb_pop_theta_w_input_vcf = run_freebayes(freebayes, \n",
      "                       \"--populations %s --theta %f --variant-input %s\" % (os.path.join(bam_dir, \"freebayes_pops.txt\"),\n",
      "                                                        theta_w,\n",
      "                                                        '/home/cfriedline/data7/eckertlab/foxtail/individuals_all/Green.raw.vcf'),\n",
      "                       assembly,\n",
      "                       bam_string,\n",
      "                       bam_dir,\n",
      "                       \"foxtail_wue_pops_theta_w_%f_input_vcf.vcf\" % theta_w)"
     ],
     "language": "python",
     "metadata": {},
     "outputs": [],
     "prompt_number": ""
    },
    {
     "cell_type": "code",
     "collapsed": false,
     "input": [
      "[x.stdout for x in (fb_pop_theta_pi, fb_pop_theta_w, fb_pop_theta_w_input_vcf)]"
     ],
     "language": "python",
     "metadata": {},
     "outputs": [],
     "prompt_number": ""
    },
    {
     "cell_type": "code",
     "collapsed": false,
     "input": [
      "!$freebayes --help"
     ],
     "language": "python",
     "metadata": {},
     "outputs": [],
     "prompt_number": ""
    },
    {
     "cell_type": "code",
     "collapsed": false,
     "input": [
      "def create_ploidy_file(bam_files):\n",
      "    d = os.path.dirname(bam_files[0])\n",
      "    base = os.path.basename(bam_files[0])\n",
      "    ploidy_file = os.path.join(d, \"%s.ploidy\" % \"all\")\n",
      "    with open(ploidy_file, \"w\") as o:\n",
      "        for b in bam_files:\n",
      "            name = \"%s.fastq\" % os.path.basename(b).split(\".fastq\")[0]\n",
      "            ploidy = 2\n",
      "            o.write(\"%s\\t%d\\n\" % (name, ploidy))\n",
      "    return ploidy_file\n",
      "dview['create_ploidy_file'] = create_ploidy_file"
     ],
     "language": "python",
     "metadata": {},
     "outputs": [],
     "prompt_number": ""
    },
    {
     "cell_type": "code",
     "collapsed": false,
     "input": [
      "def call_snps(args):\n",
      "    print socket.gethostname()\n",
      "    timer = stopwatch.Timer()\n",
      "    samtools, reference, bam_sorted, bcftools, raw_bcf, perl, vcfutils, raw_vcf, out_dir = args \n",
      "    if not out_dir:\n",
      "        out_dir = os.environ['TMPDIR']\n",
      "    raw_bcf = os.path.join(out_dir, raw_bcf)\n",
      "    raw_vcf = os.path.join(out_dir, raw_vcf)\n",
      "    ploidy_file = create_ploidy_file(bam_sorted)\n",
      "    pileup = \"%s mpileup -uf %s %s | %s view -s %s -bvcg - > %s\" % (samtools, reference, ' '.join(bam_sorted), bcftools, ploidy_file, raw_bcf) \n",
      "    view_filter = \"%s view -s %s %s | %s %s varFilter -D100 > %s\" % (bcftools, ploidy_file, raw_bcf, perl, vcfutils, raw_vcf)\n",
      "    print pileup\n",
      "    #!$pileup\n",
      "    print view_filter\n",
      "    !$view_filter\n",
      "    timer.stop()\n",
      "    return raw_vcf, args, pileup, view_filter, timer.elapsed\n",
      "dview['call_snps'] = call_snps"
     ],
     "language": "python",
     "metadata": {},
     "outputs": [],
     "prompt_number": ""
    },
    {
     "cell_type": "code",
     "collapsed": false,
     "input": [
      "samtools = \"/home/cfriedline/data7/src/samtools-0.1.19/samtools\"\n",
      "bcftools = \"/home/cfriedline/data7/src/samtools-0.1.19/bcftools/bcftools\"\n",
      "vcfutils = \"/home/cfriedline/data7/src/bcftools/vcfutils.pl\"\n",
      "perl = \"/home/cfriedline/data7/opt/ActivePerl-5.16/bin/perl\""
     ],
     "language": "python",
     "metadata": {},
     "outputs": [],
     "prompt_number": ""
    },
    {
     "cell_type": "code",
     "collapsed": false,
     "input": [
      "args = [samtools, \n",
      "        assembly, \n",
      "        bam_rmdup_files, \n",
      "        bcftools, \n",
      "        \"samtools.bcf\", \n",
      "        perl,\n",
      "        vcfutils, \n",
      "        \"samtools.vcf\", \n",
      "        bam_dir]\n",
      "samtools_job = lview.apply_async(call_snps, args)"
     ],
     "language": "python",
     "metadata": {},
     "outputs": [],
     "prompt_number": ""
    },
    {
     "cell_type": "code",
     "collapsed": false,
     "input": [
      "print samtools_job.stdout"
     ],
     "language": "python",
     "metadata": {},
     "outputs": [],
     "prompt_number": ""
    },
    {
     "cell_type": "code",
     "collapsed": false,
     "input": [
      "samtools_job.ready()"
     ],
     "language": "python",
     "metadata": {},
     "outputs": [],
     "prompt_number": ""
    },
    {
     "cell_type": "code",
     "collapsed": false,
     "input": [
      "qs = rc.queue_status()\n",
      "[eid for eid in sorted(qs)[:-1] if qs[eid]['tasks'] > 0]"
     ],
     "language": "python",
     "metadata": {},
     "outputs": [],
     "prompt_number": ""
    },
    {
     "cell_type": "code",
     "collapsed": false,
     "input": [
      "x = rc[158].apply(socket.gethostname)\n"
     ],
     "language": "python",
     "metadata": {},
     "outputs": [],
     "prompt_number": ""
    },
    {
     "cell_type": "code",
     "collapsed": false,
     "input": [
      "x.get()"
     ],
     "language": "python",
     "metadata": {},
     "outputs": [],
     "prompt_number": ""
    },
    {
     "cell_type": "code",
     "collapsed": false,
     "input": [
      "def call_snps_with_github_samtools(args):\n",
      "    print socket.gethostname()\n",
      "    timer = stopwatch.Timer()\n",
      "    samtools, reference, bam_sorted, bcftools, raw_bcf, perl, vcfutils, raw_vcf, out_dir = args \n",
      "    if not out_dir:\n",
      "        out_dir = os.environ['TMPDIR']\n",
      "    raw_bcf = os.path.join(out_dir, raw_bcf)\n",
      "    raw_vcf = os.path.join(out_dir, raw_vcf)\n",
      "    ploidy_file = create_ploidy_file(bam_sorted)\n",
      "    pileup = \"%s mpileup -uf %s %s | %s view -s %s -bvcg - > %s\" % (samtools, reference, ' '.join(bam_sorted), bcftools, ploidy_file, raw_bcf) \n",
      "    view_filter = \"%s view -s %s %s | %s %s varFilter -D100 > %s\" % (bcftools, ploidy_file, raw_bcf, perl, vcfutils, raw_vcf)\n",
      "    print pileup\n",
      "    #!$pileup\n",
      "    print view_filter\n",
      "    !$view_filter\n",
      "    timer.stop()\n",
      "    return raw_vcf, args, pileup, view_filter, timer.elapsed\n",
      "dview['call_snps'] = call_snps"
     ],
     "language": "python",
     "metadata": {},
     "outputs": [],
     "prompt_number": ""
    },
    {
     "cell_type": "code",
     "collapsed": false,
     "input": [
      "samtools_github = \"/home/cfriedline/data7/src/samtools_github/samtools/samtools\"\n",
      "bcftools_github = \"/home/cfriedline/data7/src/samtools_github/bcftools/bcftools\""
     ],
     "language": "python",
     "metadata": {},
     "outputs": [],
     "prompt_number": ""
    },
    {
     "cell_type": "code",
     "collapsed": false,
     "input": [],
     "language": "python",
     "metadata": {},
     "outputs": []
    }
   ],
   "metadata": {}
  }
 ]
}