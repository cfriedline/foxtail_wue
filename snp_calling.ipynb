{
 "metadata": {
  "name": "",
  "signature": "sha256:73e39d7057914322a34f16cfd7f2700ed84518517cfbef4c8dbcda9df80ff40c"
 },
 "nbformat": 3,
 "nbformat_minor": 0,
 "worksheets": [
  {
   "cells": [
    {
     "cell_type": "code",
     "collapsed": false,
     "input": [
      "from IPython.parallel import Client"
     ],
     "language": "python",
     "metadata": {},
     "outputs": [],
     "prompt_number": ""
    },
    {
     "cell_type": "code",
     "collapsed": false,
     "input": [
      "rc = Client(profile=\"huge\")\n",
      "dview = rc[:]\n",
      "lview = rc.load_balanced_view()\n",
      "len(rc)"
     ],
     "language": "python",
     "metadata": {},
     "outputs": [],
     "prompt_number": ""
    },
    {
     "cell_type": "code",
     "collapsed": false,
     "input": [
      "with dview.sync_imports():\n",
      "    import os"
     ],
     "language": "python",
     "metadata": {},
     "outputs": [],
     "prompt_number": ""
    },
    {
     "cell_type": "code",
     "collapsed": false,
     "input": [
      "bam_dir = \"/data7/eckertlab/projects/ethan/analysis\""
     ],
     "language": "python",
     "metadata": {},
     "outputs": [],
     "prompt_number": ""
    },
    {
     "cell_type": "code",
     "collapsed": false,
     "input": [
      "bam_files = !ls $bam_dir/*_sorted.bam"
     ],
     "language": "python",
     "metadata": {},
     "outputs": [],
     "prompt_number": ""
    },
    {
     "cell_type": "code",
     "collapsed": false,
     "input": [
      "freebayes = \"/home/cfriedline/data7/src/freebayes/bin/freebayes\""
     ],
     "language": "python",
     "metadata": {},
     "outputs": [],
     "prompt_number": ""
    },
    {
     "cell_type": "markdown",
     "metadata": {},
     "source": [
      "    usage: /home/cfriedline/data7/src/freebayes/bin/freebayes -f [REFERENCE] [OPTIONS] [BAM FILES] >[OUTPUT]\n",
      "\n",
      "    Bayesian haplotype-based polymorphism discovery.\n",
      "\n",
      "    parameters:\n",
      "\n",
      "       -h --help       For a complete description of options.\n",
      "\n",
      "    citation: Erik Garrison, Gabor Marth\n",
      "              \"Haplotype-based variant detection from short-read sequencing\"\n",
      "              arXiv:1207.3907 (http://arxiv.org/abs/1207.3907)\n",
      "\n",
      "    author:   Erik Garrison <erik.garrison@bc.edu>, Marth Lab, Boston College, 2010-2014\n",
      "    version:  v0.9.18-17-ga9cd9c6-dirty"
     ]
    },
    {
     "cell_type": "code",
     "collapsed": false,
     "input": [
      "@lview.remote()\n",
      "def remove_duplicates(sorted_bam):\n",
      "    samtools = \"/home/cfriedline/data7/src/samtools-0.1.19/samtools\"\n",
      "    out = \"%s_rmdup.bam\" % sorted_bam\n",
      "    !$samtools rmdup -s $sorted_bam $out\n",
      "    !$samtools index $out\n",
      "    return out"
     ],
     "language": "python",
     "metadata": {},
     "outputs": [],
     "prompt_number": ""
    },
    {
     "cell_type": "code",
     "collapsed": false,
     "input": [
      "rmdup_jobs = []\n",
      "for b in bam_files:\n",
      "    rmdup_jobs.append(remove_duplicates(b))"
     ],
     "language": "python",
     "metadata": {},
     "outputs": [],
     "prompt_number": ""
    },
    {
     "cell_type": "code",
     "collapsed": false,
     "input": [
      "ready = 0\n",
      "for x in rmdup_jobs:\n",
      "    if x.ready():\n",
      "        ready += 1\n",
      "print \"%d/%d\" % (ready, len(rmdup_jobs))"
     ],
     "language": "python",
     "metadata": {},
     "outputs": [],
     "prompt_number": ""
    },
    {
     "cell_type": "code",
     "collapsed": false,
     "input": [
      "assembly = \"/data7/cfriedline/assemblies/foxtail2/Green_26_ATCGCGCAA.fastq_31_data_31/contigs.fa_in_map.fa\""
     ],
     "language": "python",
     "metadata": {},
     "outputs": [],
     "prompt_number": ""
    },
    {
     "cell_type": "code",
     "collapsed": false,
     "input": [
      "bam_rmdup_files = !ls $bam_dir/*_rmdup.bam"
     ],
     "language": "python",
     "metadata": {},
     "outputs": [],
     "prompt_number": ""
    },
    {
     "cell_type": "code",
     "collapsed": false,
     "input": [
      "bam_string = \"-b \" + \" -b \".join(bam_rmdup_files)"
     ],
     "language": "python",
     "metadata": {},
     "outputs": [],
     "prompt_number": ""
    },
    {
     "cell_type": "code",
     "collapsed": false,
     "input": [
      "@lview.remote()\n",
      "def run_freebayes(freebayes, freebayes_args, assembly, bam_string, bam_dir, out_vcf):\n",
      "    out = os.path.join(bam_dir, out_vcf)\n",
      "    cmd = \"%s -f %s %s %s > %s\" % (freebayes,\n",
      "                                   assembly,\n",
      "                                   freebayes_args,\n",
      "                                   bam_string, \n",
      "                                   out)\n",
      "    !$cmd\n",
      "    return out"
     ],
     "language": "python",
     "metadata": {},
     "outputs": [],
     "prompt_number": ""
    },
    {
     "cell_type": "markdown",
     "metadata": {},
     "source": [
      "##Run default freebayes"
     ]
    },
    {
     "cell_type": "code",
     "collapsed": false,
     "input": [
      "fb = run_freebayes(freebayes, \n",
      "                   \"\", \n",
      "                   assembly, \n",
      "                   bam_string, \n",
      "                   bam_dir, \n",
      "                   \"foxtail_wue_default.vcf\")"
     ],
     "language": "python",
     "metadata": {},
     "outputs": [],
     "prompt_number": ""
    },
    {
     "cell_type": "code",
     "collapsed": false,
     "input": [
      "fb.ready()"
     ],
     "language": "python",
     "metadata": {},
     "outputs": [],
     "prompt_number": ""
    },
    {
     "cell_type": "markdown",
     "metadata": {},
     "source": [
      "##Write population file for freebayes"
     ]
    },
    {
     "cell_type": "code",
     "collapsed": false,
     "input": [
      "with open(os.path.join(bam_dir, \"freebayes_pops.txt\"), \"w\") as o:\n",
      "    for f in bam_rmdup_files:\n",
      "        print f.split(\"sorted\")[0]\n",
      "        o.write(\"%s\\t%s\\n\" % (f, os.path.basename(f).split(\"_\")[0]))"
     ],
     "language": "python",
     "metadata": {},
     "outputs": [],
     "prompt_number": ""
    },
    {
     "cell_type": "code",
     "collapsed": false,
     "input": [
      "fb_pop = run_freebayes(freebayes, \n",
      "                       \"--populations %s\" % os.path.join(bam_dir, \"freebayes_pops.txt\"),\n",
      "                       assembly,\n",
      "                       bam_string,\n",
      "                       bam_dir,\n",
      "                       \"foxtail_wue_pops.vcf\")"
     ],
     "language": "python",
     "metadata": {},
     "outputs": [],
     "prompt_number": ""
    },
    {
     "cell_type": "code",
     "collapsed": false,
     "input": [
      "fb_pop.ready()"
     ],
     "language": "python",
     "metadata": {},
     "outputs": [],
     "prompt_number": ""
    },
    {
     "cell_type": "code",
     "collapsed": false,
     "input": [
      "!$freebayes --help"
     ],
     "language": "python",
     "metadata": {},
     "outputs": [],
     "prompt_number": ""
    },
    {
     "cell_type": "code",
     "collapsed": false,
     "input": [],
     "language": "python",
     "metadata": {},
     "outputs": []
    }
   ],
   "metadata": {}
  }
 ]
}