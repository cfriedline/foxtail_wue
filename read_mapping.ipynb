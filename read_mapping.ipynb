{
 "cells": [
  {
   "cell_type": "code",
   "execution_count": 0,
   "metadata": {
    "collapsed": false
   },
   "outputs": [],
   "source": [
    "import os, sys, tempfile, shutil, socket\n",
    "import multiprocessing as mp\n",
    "from IPython.parallel import Client\n",
    "import pandas as pd"
   ]
  },
  {
   "cell_type": "code",
   "execution_count": 0,
   "metadata": {
    "collapsed": false
   },
   "outputs": [],
   "source": [
    "rc = Client(profile=\"huge\")\n",
    "dview = rc[:]\n",
    "lview = rc.load_balanced_view()\n",
    "len(rc)"
   ]
  },
  {
   "cell_type": "code",
   "execution_count": 0,
   "metadata": {
    "collapsed": false
   },
   "outputs": [],
   "source": [
    "def get_async_progress(jobs):\n",
    "    ready = 0\n",
    "    for j in jobs:\n",
    "        if j.ready():\n",
    "            ready += 1\n",
    "    return \"%d/%d\" % (ready, len(jobs))"
   ]
  },
  {
   "cell_type": "code",
   "execution_count": 0,
   "metadata": {
    "collapsed": false
   },
   "outputs": [],
   "source": [
    "def get_sample_name_from_file(f):\n",
    "    base = os.path.basename(f)\n",
    "    sample_name = \"_\".join(base.split(\"_\")[0:2])\n",
    "    return sample_name"
   ]
  },
  {
   "cell_type": "code",
   "execution_count": 0,
   "metadata": {
    "collapsed": false
   },
   "outputs": [],
   "source": [
    "with dview.sync_imports():\n",
    "    import os, stopwatch, multiprocessing, tempfile, shutil, socket"
   ]
  },
  {
   "cell_type": "code",
   "execution_count": 0,
   "metadata": {
    "collapsed": false
   },
   "outputs": [],
   "source": [
    "def get_single_host_lview(host_list):\n",
    "    hosts = dview.apply(socket.gethostname).get()\n",
    "    host_ids = {}\n",
    "    for i, host in enumerate(hosts):\n",
    "        if not host in host_ids:\n",
    "            host_ids[host] = []\n",
    "        if host_list == \"all\":\n",
    "            host_ids[host].append(i)\n",
    "        elif host in host_list:\n",
    "            host_ids[host].append(i)\n",
    "    hview = [v[0] for k, v in host_ids.items()]\n",
    "    hlview = rc.load_balanced_view(targets=hview)\n",
    "    return hlview"
   ]
  },
  {
   "cell_type": "code",
   "execution_count": 0,
   "metadata": {
    "collapsed": false
   },
   "outputs": [],
   "source": [
    "hlview = get_single_host_lview(\"all\")"
   ]
  },
  {
   "cell_type": "code",
   "execution_count": 0,
   "metadata": {
    "collapsed": false
   },
   "outputs": [],
   "source": [
    "len(hlview)"
   ]
  },
  {
   "cell_type": "code",
   "execution_count": 0,
   "metadata": {
    "collapsed": false
   },
   "outputs": [],
   "source": [
    "assembly = \"/data7/cfriedline/assemblies/foxtail2/Green_26_ATCGCGCAA.fastq_31_data_31/contigs.fa_in_map.fa\""
   ]
  },
  {
   "cell_type": "code",
   "execution_count": 0,
   "metadata": {
    "collapsed": false
   },
   "outputs": [],
   "source": [
    "fastq_dir = \"/data7/eckertlab/projects/ethan/HiSeq_140603/FASTQ\""
   ]
  },
  {
   "cell_type": "code",
   "execution_count": 0,
   "metadata": {
    "collapsed": false
   },
   "outputs": [],
   "source": [
    "fastq_files = !ls $fastq_dir | grep 'fastq$' | grep -v processed\n",
    "fastq_files = sorted([os.path.join(fastq_dir, x) for x in fastq_files])"
   ]
  },
  {
   "cell_type": "code",
   "execution_count": 0,
   "metadata": {
    "collapsed": false
   },
   "outputs": [],
   "source": [
    "fastq_files"
   ]
  },
  {
   "cell_type": "code",
   "execution_count": 0,
   "metadata": {
    "collapsed": false
   },
   "outputs": [],
   "source": [
    "bowtie2_dir = \"/home/cfriedline/data7/src/bowtie2-2.2.4\"\n",
    "bowtie2_build = os.path.join(bowtie2_dir, \"bowtie2-build\")\n",
    "bowtie2 = os.path.join(bowtie2_dir, \"bowtie2\")"
   ]
  },
  {
   "cell_type": "code",
   "execution_count": 0,
   "metadata": {
    "collapsed": false
   },
   "outputs": [],
   "source": [
    "x = !$bowtie2_build -f $assembly $assembly"
   ]
  },
  {
   "cell_type": "code",
   "execution_count": 0,
   "metadata": {
    "collapsed": false
   },
   "outputs": [],
   "source": [
    "analysis_dir = \"/data7/eckertlab/projects/ethan/analysis\""
   ]
  },
  {
   "cell_type": "code",
   "execution_count": 0,
   "metadata": {
    "collapsed": false
   },
   "outputs": [],
   "source": [
    "#modified from read_mapping notebook to align with LB and PL in @RG\n",
    "def run_bowtie2(args):\n",
    "    timer = stopwatch.Timer()\n",
    "    cpus = multiprocessing.cpu_count()\n",
    "    bowtie2, assembly, reads, rglb, sam = args\n",
    "    tmp = tempfile.NamedTemporaryFile(delete=False)\n",
    "    rgid = os.path.basename(reads)\n",
    "    rgsm = rgid\n",
    "    cmd = \"%s %s %s -p %d -x %s -U %s -S \\\n",
    "    %s --rg-id %s --rg SM:%s --rg PL:illumina --rg LB:%s\" % (bowtie2,\n",
    "                                                           \"--local\",\n",
    "                                                           \"--very-sensitive-local\", \n",
    "                                                           cpus, \n",
    "                                                           assembly,\n",
    "                                                           reads,\n",
    "                                                           tmp.name,\n",
    "                                                           rgid,\n",
    "                                                           rgsm,\n",
    "                                                           rglb)\n",
    "    print socket.gethostname(), cmd\n",
    "    !$cmd\n",
    "    shutil.move(tmp.name, sam)\n",
    "    timer.stop()\n",
    "    return assembly, sam, cmd, timer.elapsed\n",
    "dview['run_bowtie2'] = run_bowtie2"
   ]
  },
  {
   "cell_type": "code",
   "execution_count": 0,
   "metadata": {
    "collapsed": false
   },
   "outputs": [],
   "source": [
    "def create_library_index(barcode_files):\n",
    "    index = {}\n",
    "    for f in barcode_files:\n",
    "        df = pd.read_csv(f, sep=\"\\t\")\n",
    "        names = df.apply(lambda row: \"%s_%s\" % (row.Family_ID, row.Sample_ID), axis=1)\n",
    "        for n in names:\n",
    "            if not n in index:\n",
    "                index[n] = os.path.basename(f).replace(\".csv\", \"\")\n",
    "            else:\n",
    "                print \"duplicate sample found at %s ()\" % (n, os.path.basename(f))\n",
    "    return index\n",
    "        \n",
    "library_index = create_library_index([\"/data7/eckertlab/projects/ethan/ethan_library1.csv\",\n",
    "                                      \"/data7/eckertlab/projects/ethan/ethan_library2.csv\"])                                      "
   ]
  },
  {
   "cell_type": "code",
   "execution_count": 0,
   "metadata": {
    "collapsed": false
   },
   "outputs": [],
   "source": [
    "bowtie2_jobs = []\n",
    "for f in fastq_files:\n",
    "    sample_name = get_sample_name_from_file(f)\n",
    "    rglb = library_index[sample_name]\n",
    "    sam = os.path.join(analysis_dir, \"%s_bowtie2.sam\" % os.path.basename(f))\n",
    "    bowtie2_jobs.append(hlview.apply_async(run_bowtie2, (bowtie2, assembly, f, rglb, sam)))"
   ]
  },
  {
   "cell_type": "code",
   "execution_count": 0,
   "metadata": {
    "collapsed": false
   },
   "outputs": [],
   "source": [
    "ready = 0\n",
    "for x in bowtie_jobs:\n",
    "    if x.ready():\n",
    "        ready+=1\n",
    "        #print x.get()\n",
    "print \"%d/%d\" % (ready, len(bowtie_jobs))"
   ]
  },
  {
   "cell_type": "code",
   "execution_count": 0,
   "metadata": {
    "collapsed": false
   },
   "outputs": [],
   "source": [
    "@hlview.remote()\n",
    "def convert_sam_to_bam(sam):\n",
    "    timer = stopwatch.Timer()\n",
    "    cpus = multiprocessing.cpu_count()\n",
    "    bam = sam.replace(\".sam\", \".bam\")\n",
    "    bam_sorted = \"%s_sorted.bam\" % bam.replace(\".bam\", \"\")\n",
    "    bam_index = bam_sorted.replace(\".bam\", \".bai\")\n",
    "    if not os.path.exists(bam):\n",
    "        !/home/cfriedline/data7/src/samtools-0.1.19/samtools view -bS $sam > $bam\n",
    "        !/home/cfriedline/data7/src/samtools-0.1.19/samtools sort -@ $cpus -f $bam $bam_sorted\n",
    "        !/home/cfriedline/data7/src/samtools-0.1.19/samtools index $bam_sorted $bam_index\n",
    "    timer.stop()\n",
    "    return bam, bam_sorted, bam_index, timer.elapsed"
   ]
  },
  {
   "cell_type": "code",
   "execution_count": 0,
   "metadata": {
    "collapsed": false
   },
   "outputs": [],
   "source": [
    "sam_files = !ls $analysis_dir/*.sam"
   ]
  },
  {
   "cell_type": "code",
   "execution_count": 0,
   "metadata": {
    "collapsed": false
   },
   "outputs": [],
   "source": [
    "sam_bam_jobs = []\n",
    "for f in sam_files:\n",
    "    sam_bam_jobs.append(convert_sam_to_bam(f))"
   ]
  },
  {
   "cell_type": "code",
   "execution_count": 0,
   "metadata": {
    "collapsed": false
   },
   "outputs": [],
   "source": [
    "ready = 0\n",
    "for x in sam_bam_jobs:\n",
    "    if x.ready():\n",
    "        ready+=1\n",
    "        #print x.get()\n",
    "print \"%d/%d\" % (ready, len(sam_bam_jobs))"
   ]
  },
  {
   "cell_type": "code",
   "execution_count": 0,
   "metadata": {
    "collapsed": false
   },
   "outputs": [],
   "source": []
  }
 ],
 "metadata": {
  "kernelspec": {
   "display_name": "Python 3",
   "language": "python",
   "name": "python3"
  },
  "language_info": {
   "codemirror_mode": {
    "name": "ipython",
    "version": 3
   },
   "file_extension": ".py",
   "mimetype": "text/x-python",
   "name": "python",
   "nbconvert_exporter": "python",
   "pygments_lexer": "ipython3",
   "version": "3.4.3"
  }
 },
 "nbformat": 4,
 "nbformat_minor": 0
}
