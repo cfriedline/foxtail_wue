{
 "metadata": {
  "name": "",
  "signature": "sha256:a2c35a26dc86ec7f9053ffa7b0e1a24a06077bbe8c7ee70ce0995dc7d405a0c7"
 },
 "nbformat": 3,
 "nbformat_minor": 0,
 "worksheets": [
  {
   "cells": [
    {
     "cell_type": "code",
     "collapsed": false,
     "input": [
      "import os, sys, tempfile, shutil\n",
      "import multiprocessing as mp\n",
      "from IPython.parallel import Client"
     ],
     "language": "python",
     "metadata": {},
     "outputs": [],
     "prompt_number": ""
    },
    {
     "cell_type": "code",
     "collapsed": false,
     "input": [
      "rc = Client(profile=\"huge\")\n",
      "dview = rc[:]\n",
      "lview = rc.load_balanced_view()\n",
      "len(rc)"
     ],
     "language": "python",
     "metadata": {},
     "outputs": [],
     "prompt_number": ""
    },
    {
     "cell_type": "code",
     "collapsed": false,
     "input": [
      "with dview.sync_imports():\n",
      "    import os\n",
      "    import socket"
     ],
     "language": "python",
     "metadata": {},
     "outputs": []
    },
    {
     "cell_type": "code",
     "collapsed": false,
     "input": [
      "assembly = \"/data7/cfriedline/assemblies/foxtail2/Green_26_ATCGCGCAA.fastq_31_data_31/contigs.fa_in_map.fa\""
     ],
     "language": "python",
     "metadata": {},
     "outputs": [],
     "prompt_number": ""
    },
    {
     "cell_type": "code",
     "collapsed": false,
     "input": [
      "fastq_dir = \"/data7/eckertlab/projects/ethan/HiSeq_140603/FASTQ\""
     ],
     "language": "python",
     "metadata": {},
     "outputs": [],
     "prompt_number": ""
    },
    {
     "cell_type": "code",
     "collapsed": false,
     "input": [
      "fastq_files = !ls $fastq_dir | grep 'fastq$' | grep -v processed\n",
      "fastq_files = sorted([os.path.join(fastq_dir, x) for x in fastq_files])"
     ],
     "language": "python",
     "metadata": {},
     "outputs": [],
     "prompt_number": ""
    },
    {
     "cell_type": "code",
     "collapsed": false,
     "input": [
      "fastq_files"
     ],
     "language": "python",
     "metadata": {},
     "outputs": [],
     "prompt_number": ""
    },
    {
     "cell_type": "code",
     "collapsed": false,
     "input": [
      "bowtie2_dir = \"/home/cfriedline/data7/src/bowtie2-2.2.4\"\n",
      "bowtie2_build = os.path.join(bowtie2_dir, \"bowtie2-build\")\n",
      "bowtie2 = os.path.join(bowtie2_dir, \"bowtie2\")"
     ],
     "language": "python",
     "metadata": {},
     "outputs": [],
     "prompt_number": ""
    },
    {
     "cell_type": "code",
     "collapsed": false,
     "input": [
      "!$bowtie2_build -f $assembly {os.path.join(os.path.dirname(assembly), \"contigs_in_map\")}"
     ],
     "language": "python",
     "metadata": {},
     "outputs": [],
     "prompt_number": ""
    },
    {
     "cell_type": "code",
     "collapsed": false,
     "input": [
      "bowtie2_indexes = \"/data7/cfriedline/assemblies/foxtail2/Green_26_ATCGCGCAA.fastq_31_data_31/contigs_in_map\""
     ],
     "language": "python",
     "metadata": {},
     "outputs": [],
     "prompt_number": ""
    },
    {
     "cell_type": "code",
     "collapsed": false,
     "input": [
      "analysis_dir = \"/data7/eckertlab/projects/ethan/analysis\""
     ],
     "language": "python",
     "metadata": {},
     "outputs": [],
     "prompt_number": ""
    },
    {
     "cell_type": "code",
     "collapsed": false,
     "input": [
      "@lview.remote()\n",
      "def run_bowtie2(args):\n",
      "    import os, stopwatch, multiprocessing, tempfile, shutil\n",
      "    timer = stopwatch.Timer()\n",
      "    cpus = multiprocessing.cpu_count()\n",
      "    assembly, reads, sam = args\n",
      "    tmp = tempfile.NamedTemporaryFile(delete=False)\n",
      "    cmd = \"/home/cfriedline/data7/src/bowtie2-2.2.2/bowtie2 --local --very-sensitive-local -p %d -x %s -U %s -S %s\" % (cpus, assembly, reads, tmp.name)\n",
      "    if not os.path.exists(sam):\n",
      "        !$cmd\n",
      "    timer.stop()\n",
      "    shutil.move(tmp.name, sam)\n",
      "    return assembly, sam, cmd, timer.elapsed"
     ],
     "language": "python",
     "metadata": {},
     "outputs": [],
     "prompt_number": ""
    },
    {
     "cell_type": "code",
     "collapsed": false,
     "input": [
      "@lview.remote()\n",
      "def convert_sam_to_bam(sam):\n",
      "    timer = stopwatch.Timer()\n",
      "    cpus = multiprocessing.cpu_count()\n",
      "    bam = sam.replace(\".sam\", \".bam\")\n",
      "    bam_sorted = \"%s_sorted.bam\" % bam.replace(\".bam\", \"\")\n",
      "    bam_index = bam_sorted.replace(\".bam\", \".bai\")\n",
      "    if not os.path.exists(bam):\n",
      "        !/home/cfriedline/data7/src/samtools-0.1.19/samtools view -bS $sam > $bam\n",
      "        !/home/cfriedline/data7/src/samtools-0.1.19/samtools sort -@ $cpus -f $bam $bam_sorted\n",
      "        !/home/cfriedline/data7/src/samtools-0.1.19/samtools index $bam_sorted $bam_index\n",
      "    timer.stop()\n",
      "    return bam, bam_sorted, bam_index, timer.elapsed"
     ],
     "language": "python",
     "metadata": {},
     "outputs": [],
     "prompt_number": ""
    },
    {
     "cell_type": "code",
     "collapsed": false,
     "input": [
      "bowtie_jobs = []\n",
      "for f in fastq_files:\n",
      "    sam = os.path.join(analysis_dir, \"%s.sam\" % os.path.basename(f))\n",
      "    bowtie_jobs.append(run_bowtie2((bowtie2_indexes, f, sam)))"
     ],
     "language": "python",
     "metadata": {},
     "outputs": [],
     "prompt_number": ""
    }
   ],
   "metadata": {}
  }
 ]
}