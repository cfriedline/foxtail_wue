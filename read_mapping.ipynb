{
 "metadata": {
  "name": "",
  "signature": "sha256:70f5ca353c3bf4722cec0c5856dda51880af8197581dd872f6c5ae4eaf60e298"
 },
 "nbformat": 3,
 "nbformat_minor": 0,
 "worksheets": [
  {
   "cells": [
    {
     "cell_type": "code",
     "collapsed": false,
     "input": [
      "import os, sys, tempfile, shutil\n",
      "import multiprocessing as mp\n",
      "from IPython.parallel import Client"
     ],
     "language": "python",
     "metadata": {},
     "outputs": [],
     "prompt_number": ""
    },
    {
     "cell_type": "code",
     "collapsed": false,
     "input": [
      "rc = Client(profile=\"huge\")\n",
      "dview = rc[:]\n",
      "lview = rc.load_balanced_view()\n",
      "len(rc)"
     ],
     "language": "python",
     "metadata": {},
     "outputs": [],
     "prompt_number": ""
    },
    {
     "cell_type": "code",
     "collapsed": false,
     "input": [
      "hosts = dview.apply(socket.gethostname).get()"
     ],
     "language": "python",
     "metadata": {},
     "outputs": [],
     "prompt_number": ""
    },
    {
     "cell_type": "code",
     "collapsed": false,
     "input": [
      "host_ids = {}\n",
      "for i, host in enumerate(hosts):\n",
      "    if not host in host_ids:\n",
      "        host_ids[host] = []\n",
      "    host_ids[host].append(i)\n",
      "host_ids\n",
      "hview = [v[0] for k, v in host_ids.items()]\n",
      "hlview = rc.load_balanced_view(targets=hview)"
     ],
     "language": "python",
     "metadata": {},
     "outputs": [],
     "prompt_number": ""
    },
    {
     "cell_type": "code",
     "collapsed": false,
     "input": [
      "with dview.sync_imports():\n",
      "    import os, stopwatch, multiprocessing, tempfile, shutil, socket"
     ],
     "language": "python",
     "metadata": {},
     "outputs": [],
     "prompt_number": ""
    },
    {
     "cell_type": "code",
     "collapsed": false,
     "input": [
      "assembly = \"/data7/cfriedline/assemblies/foxtail2/Green_26_ATCGCGCAA.fastq_31_data_31/contigs.fa_in_map.fa\""
     ],
     "language": "python",
     "metadata": {},
     "outputs": [],
     "prompt_number": ""
    },
    {
     "cell_type": "code",
     "collapsed": false,
     "input": [
      "fastq_dir = \"/data7/eckertlab/projects/ethan/HiSeq_140603/FASTQ\""
     ],
     "language": "python",
     "metadata": {},
     "outputs": [],
     "prompt_number": ""
    },
    {
     "cell_type": "code",
     "collapsed": false,
     "input": [
      "fastq_files = !ls $fastq_dir | grep 'fastq$' | grep -v processed\n",
      "fastq_files = sorted([os.path.join(fastq_dir, x) for x in fastq_files])"
     ],
     "language": "python",
     "metadata": {},
     "outputs": [],
     "prompt_number": ""
    },
    {
     "cell_type": "code",
     "collapsed": false,
     "input": [
      "fastq_files"
     ],
     "language": "python",
     "metadata": {},
     "outputs": [],
     "prompt_number": ""
    },
    {
     "cell_type": "code",
     "collapsed": false,
     "input": [
      "bowtie2_dir = \"/home/cfriedline/data7/src/bowtie2-2.2.4\"\n",
      "bowtie2_build = os.path.join(bowtie2_dir, \"bowtie2-build\")\n",
      "bowtie2 = os.path.join(bowtie2_dir, \"bowtie2\")"
     ],
     "language": "python",
     "metadata": {},
     "outputs": [],
     "prompt_number": ""
    },
    {
     "cell_type": "code",
     "collapsed": false,
     "input": [
      "!$bowtie2_build -f $assembly {os.path.join(os.path.dirname(assembly), \"contigs_in_map\")}"
     ],
     "language": "python",
     "metadata": {},
     "outputs": [],
     "prompt_number": ""
    },
    {
     "cell_type": "code",
     "collapsed": false,
     "input": [
      "bowtie2_indexes = \"/data7/cfriedline/assemblies/foxtail2/Green_26_ATCGCGCAA.fastq_31_data_31/contigs_in_map\""
     ],
     "language": "python",
     "metadata": {},
     "outputs": [],
     "prompt_number": ""
    },
    {
     "cell_type": "code",
     "collapsed": false,
     "input": [
      "analysis_dir = \"/data7/eckertlab/projects/ethan/analysis\""
     ],
     "language": "python",
     "metadata": {},
     "outputs": [],
     "prompt_number": ""
    },
    {
     "cell_type": "code",
     "collapsed": false,
     "input": [
      "@hlview.remote()\n",
      "def run_bowtie2(args):\n",
      "    timer = stopwatch.Timer()\n",
      "    cpus = multiprocessing.cpu_count()\n",
      "    bowtie2, assembly, reads, sam = args\n",
      "    tmp = tempfile.NamedTemporaryFile(delete=False)\n",
      "    rgid = os.path.basename(reads)\n",
      "    rgsm = rgid\n",
      "    cmd = \"%s %s %s -p %d -x %s -U %s -S %s --rg-id %s --rg SM:%s\" % (bowtie2,\n",
      "                                                           \"--local\",\n",
      "                                                           \"--very-sensitive-local\", \n",
      "                                                           cpus, \n",
      "                                                           assembly,\n",
      "                                                           reads,\n",
      "                                                           tmp.name,\n",
      "                                                           rgid,\n",
      "                                                           rgsm)\n",
      "    print socket.gethostname(), cmd\n",
      "    !$cmd\n",
      "    shutil.move(tmp.name, sam)\n",
      "    timer.stop()\n",
      "    return assembly, sam, cmd, timer.elapsed"
     ],
     "language": "python",
     "metadata": {},
     "outputs": [],
     "prompt_number": ""
    },
    {
     "cell_type": "code",
     "collapsed": false,
     "input": [
      "bowtie_jobs = []\n",
      "for f in fastq_files:\n",
      "    sam = os.path.join(analysis_dir, \"%s.sam\" % os.path.basename(f))\n",
      "    bowtie_jobs.append(run_bowtie2((bowtie2, bowtie2_indexes, f, sam)))"
     ],
     "language": "python",
     "metadata": {},
     "outputs": [],
     "prompt_number": ""
    },
    {
     "cell_type": "code",
     "collapsed": false,
     "input": [
      "ready = 0\n",
      "for x in bowtie_jobs:\n",
      "    if x.ready():\n",
      "        ready+=1\n",
      "        #print x.get()\n",
      "print \"%d/%d\" % (ready, len(bowtie_jobs))"
     ],
     "language": "python",
     "metadata": {},
     "outputs": [],
     "prompt_number": ""
    },
    {
     "cell_type": "code",
     "collapsed": false,
     "input": [
      "@hlview.remote()\n",
      "def convert_sam_to_bam(sam):\n",
      "    timer = stopwatch.Timer()\n",
      "    cpus = multiprocessing.cpu_count()\n",
      "    bam = sam.replace(\".sam\", \".bam\")\n",
      "    bam_sorted = \"%s_sorted.bam\" % bam.replace(\".bam\", \"\")\n",
      "    bam_index = bam_sorted.replace(\".bam\", \".bai\")\n",
      "    if not os.path.exists(bam):\n",
      "        !/home/cfriedline/data7/src/samtools-0.1.19/samtools view -bS $sam > $bam\n",
      "        !/home/cfriedline/data7/src/samtools-0.1.19/samtools sort -@ $cpus -f $bam $bam_sorted\n",
      "        !/home/cfriedline/data7/src/samtools-0.1.19/samtools index $bam_sorted $bam_index\n",
      "    timer.stop()\n",
      "    return bam, bam_sorted, bam_index, timer.elapsed"
     ],
     "language": "python",
     "metadata": {},
     "outputs": [],
     "prompt_number": ""
    },
    {
     "cell_type": "code",
     "collapsed": false,
     "input": [
      "sam_files = !ls $analysis_dir/*.sam"
     ],
     "language": "python",
     "metadata": {},
     "outputs": [],
     "prompt_number": ""
    },
    {
     "cell_type": "code",
     "collapsed": false,
     "input": [
      "sam_bam_jobs = []\n",
      "for f in sam_files:\n",
      "    sam_bam_jobs.append(convert_sam_to_bam(f))"
     ],
     "language": "python",
     "metadata": {},
     "outputs": [],
     "prompt_number": ""
    },
    {
     "cell_type": "code",
     "collapsed": false,
     "input": [
      "ready = 0\n",
      "for x in sam_bam_jobs:\n",
      "    if x.ready():\n",
      "        ready+=1\n",
      "        #print x.get()\n",
      "print \"%d/%d\" % (ready, len(sam_bam_jobs))"
     ],
     "language": "python",
     "metadata": {},
     "outputs": [],
     "prompt_number": ""
    },
    {
     "cell_type": "code",
     "collapsed": false,
     "input": [],
     "language": "python",
     "metadata": {},
     "outputs": []
    }
   ],
   "metadata": {}
  }
 ]
}