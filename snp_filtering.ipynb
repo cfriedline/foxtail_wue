{
 "metadata": {
  "name": "",
  "signature": "sha256:b054d6a0c04f074379492e5410dca756cfd237ac95f28ffc5f89607e1c19a3fd"
 },
 "nbformat": 3,
 "nbformat_minor": 0,
 "worksheets": [
  {
   "cells": [
    {
     "cell_type": "code",
     "collapsed": false,
     "input": [
      "import vcf, os, sys\n",
      "from IPython.parallel import Client\n",
      "import time\n",
      "import vcf\n",
      "import pandas as pd\n",
      "from collections import defaultdict\n",
      "import matplotlib.pyplot as plt\n",
      "import numpy as np\n",
      "import scipy as sp\n",
      "from IPython.display import FileLink"
     ],
     "language": "python",
     "metadata": {},
     "outputs": [],
     "prompt_number": ""
    },
    {
     "cell_type": "code",
     "collapsed": false,
     "input": [
      "rc = Client(profile=\"huge\")\n",
      "dview = rc[:]\n",
      "lview = rc.load_balanced_view()\n",
      "len(rc)"
     ],
     "language": "python",
     "metadata": {},
     "outputs": [],
     "prompt_number": ""
    },
    {
     "cell_type": "code",
     "collapsed": false,
     "input": [
      "def get_idle_engines(rc):\n",
      "    qs = rc.queue_status()\n",
      "    time.sleep(10)\n",
      "    active = [eid for eid in sorted(qs)[:-1] if not qs[eid]['queue']]\n",
      "    d = rc[active]\n",
      "    l = rc.load_balanced_view(targets=active)\n",
      "    return d, l"
     ],
     "language": "python",
     "metadata": {},
     "outputs": [],
     "prompt_number": ""
    },
    {
     "cell_type": "code",
     "collapsed": false,
     "input": [
      "dview, lview = get_idle_engines(rc)\n",
      "len(dview)"
     ],
     "language": "python",
     "metadata": {},
     "outputs": [],
     "prompt_number": ""
    },
    {
     "cell_type": "code",
     "collapsed": false,
     "input": [
      "with dview.sync_imports():\n",
      "    import vcf\n",
      "    import os\n",
      "    import sys\n",
      "    import pandas\n",
      "    from collections import defaultdict"
     ],
     "language": "python",
     "metadata": {},
     "outputs": [],
     "prompt_number": ""
    },
    {
     "cell_type": "code",
     "collapsed": false,
     "input": [
      "vcf_dir = \"/data7/eckertlab/projects/ethan/analysis/gatk\"\n",
      "vcfs = !ls {vcf_dir}/*.vcf\n",
      "vcfs = sorted(vcfs)\n",
      "vcfs"
     ],
     "language": "python",
     "metadata": {},
     "outputs": [],
     "prompt_number": ""
    },
    {
     "cell_type": "code",
     "collapsed": false,
     "input": [
      "vcftools = \"/home/cfriedline/data7/src/vcftools_0.1.12b/bin/vcftools\"\n",
      "bcftools = \"/home/cfriedline/data7/src/bcftools/bcftools\""
     ],
     "language": "python",
     "metadata": {},
     "outputs": [],
     "prompt_number": ""
    },
    {
     "cell_type": "code",
     "collapsed": false,
     "input": [
      "vcfs = vcfs[-1:]"
     ],
     "language": "python",
     "metadata": {},
     "outputs": [],
     "prompt_number": ""
    },
    {
     "cell_type": "code",
     "collapsed": false,
     "input": [
      "vcfs"
     ],
     "language": "python",
     "metadata": {},
     "outputs": [],
     "prompt_number": ""
    },
    {
     "cell_type": "markdown",
     "metadata": {},
     "source": [
      "##Extracts SNPs from vcfs"
     ]
    },
    {
     "cell_type": "code",
     "collapsed": false,
     "input": [
      "def extract_snps_from_vcf(v):\n",
      "    out = v.replace(\".vcf\", \"_snps.vcf\")\n",
      "    with open(out, \"w\") as o:\n",
      "        reader = vcf.VCFReader(filename=v)\n",
      "        writer = vcf.VCFWriter(o, reader)\n",
      "        for rec in reader:\n",
      "            if rec.is_snp:\n",
      "                writer.write_record(rec)\n",
      "    return out\n",
      "dview['extract_snps_from_vcf'] = extract_snps_from_vcf"
     ],
     "language": "python",
     "metadata": {},
     "outputs": [],
     "prompt_number": ""
    },
    {
     "cell_type": "code",
     "collapsed": false,
     "input": [
      "snps = []\n",
      "for v in vcfs:\n",
      "    snps.append(lview.apply_async(extract_snps_from_vcf, v))"
     ],
     "language": "python",
     "metadata": {},
     "outputs": [],
     "prompt_number": ""
    },
    {
     "cell_type": "code",
     "collapsed": false,
     "input": [
      "[x.ready() for x in snps]"
     ],
     "language": "python",
     "metadata": {},
     "outputs": [],
     "prompt_number": ""
    },
    {
     "cell_type": "code",
     "collapsed": false,
     "input": [
      "snps = [x.get() for x in snps]"
     ],
     "language": "python",
     "metadata": {},
     "outputs": [],
     "prompt_number": ""
    },
    {
     "cell_type": "code",
     "collapsed": false,
     "input": [
      "snps"
     ],
     "language": "python",
     "metadata": {},
     "outputs": [],
     "prompt_number": ""
    },
    {
     "cell_type": "markdown",
     "metadata": {},
     "source": [
      "##SNP on linkage map"
     ]
    },
    {
     "cell_type": "code",
     "collapsed": false,
     "input": [
      "linkage_map_file = \"/data7/eckertlab/projects/ethan/analysis/final_maps_cleaned_10_28_2014.xlsx\"\n",
      "linkage_map = pd.read_excel(linkage_map_file)"
     ],
     "language": "python",
     "metadata": {},
     "outputs": [],
     "prompt_number": ""
    },
    {
     "cell_type": "code",
     "collapsed": false,
     "input": [
      "linkage_map[\"position\"] = linkage_map.apply(lambda row: int(row.TGG_nomenclature.split(\"-\")[1]), axis=1)"
     ],
     "language": "python",
     "metadata": {},
     "outputs": [],
     "prompt_number": ""
    },
    {
     "cell_type": "code",
     "collapsed": false,
     "input": [
      "def create_map_index(linkage_map):\n",
      "    map_index = defaultdict(set)\n",
      "    for row in linkage_map.iterrows():\n",
      "        map_index[row[1].rad_tag_id].add(row[1].position)\n",
      "    return map_index"
     ],
     "language": "python",
     "metadata": {},
     "outputs": [],
     "prompt_number": ""
    },
    {
     "cell_type": "code",
     "collapsed": false,
     "input": [
      "map_index = create_map_index(linkage_map)"
     ],
     "language": "python",
     "metadata": {},
     "outputs": [],
     "prompt_number": ""
    },
    {
     "cell_type": "code",
     "collapsed": false,
     "input": [
      "def extract_snps_on_map(v):\n",
      "    out = v.replace(\".vcf\", \"_on_map.vcf\")\n",
      "    with open(out, \"w\") as o:\n",
      "        reader = vcf.Reader(open(v))\n",
      "        writer = vcf.Writer(o, reader)\n",
      "        for rec in reader:\n",
      "            if rec.CHROM in map_index:\n",
      "                if rec.POS in map_index[rec.CHROM]:\n",
      "                    writer.write_record(rec)"
     ],
     "language": "python",
     "metadata": {},
     "outputs": [],
     "prompt_number": ""
    },
    {
     "cell_type": "code",
     "collapsed": false,
     "input": [
      "mapped_snps = defaultdict(list)\n",
      "for v in snps:\n",
      "    print v\n",
      "    extract_snps_on_map(v)"
     ],
     "language": "python",
     "metadata": {},
     "outputs": [],
     "prompt_number": ""
    },
    {
     "cell_type": "code",
     "collapsed": false,
     "input": [
      "on_map = !ls {vcf_dir}/*on_map.vcf\n",
      "on_map"
     ],
     "language": "python",
     "metadata": {},
     "outputs": [],
     "prompt_number": ""
    },
    {
     "cell_type": "code",
     "collapsed": false,
     "input": [
      "for v in on_map:\n",
      "    !/home/cfriedline/data7/src/htslib/bgzip $v\n",
      "    !tabix {v}.gz"
     ],
     "language": "python",
     "metadata": {},
     "outputs": [],
     "prompt_number": ""
    },
    {
     "cell_type": "code",
     "collapsed": false,
     "input": [
      "snp_isect = !$bcftools isec -n +1 {\" \".join(on_map)}"
     ],
     "language": "python",
     "metadata": {},
     "outputs": [],
     "prompt_number": ""
    },
    {
     "cell_type": "code",
     "collapsed": false,
     "input": [
      "snp_isect = [x.split(\"\\t\") for x in snp_isect[1:]]\n",
      "for x in snp_isect:\n",
      "    x.extend((list(x[-1])))"
     ],
     "language": "python",
     "metadata": {},
     "outputs": [],
     "prompt_number": ""
    },
    {
     "cell_type": "code",
     "collapsed": false,
     "input": [
      "columns=[\"contig\",\n",
      "         \"pos\",\n",
      "         \"ref\",\n",
      "         \"alt\",\n",
      "         \"isec\"]\n",
      "columns.extend([os.path.basename(x) for x in on_map])\n",
      "snp_isect_df = pd.DataFrame(snp_isect, columns=columns)"
     ],
     "language": "python",
     "metadata": {},
     "outputs": [],
     "prompt_number": ""
    },
    {
     "cell_type": "code",
     "collapsed": false,
     "input": [
      "len(snp_isect_df[snp_isect_df.isec==\"1111\"])"
     ],
     "language": "python",
     "metadata": {},
     "outputs": [],
     "prompt_number": ""
    },
    {
     "cell_type": "code",
     "collapsed": false,
     "input": [
      "for v in on_map:\n",
      "    quals = []\n",
      "    v = \"%s.gz\" % v\n",
      "    reader = vcf.Reader(filename=v)\n",
      "    for rec in reader:\n",
      "        quals.append(rec.QUAL)\n",
      "    plt.hist(quals)\n",
      "    title = \"%s %.2f %.2f [%d, %d]\" % (os.path.basename(v),\n",
      "                                       np.mean(quals),\n",
      "                                       np.std(quals),\n",
      "                                       np.min(quals),\n",
      "                                       np.max(quals))\n",
      "    plt.title(title)\n",
      "    plt.show()"
     ],
     "language": "python",
     "metadata": {},
     "outputs": [],
     "prompt_number": ""
    },
    {
     "cell_type": "code",
     "collapsed": false,
     "input": [
      "for v in on_map:\n",
      "    v = \"%s.gz\" % v\n",
      "    reader = vcf.Reader(filename=v)\n",
      "    for rec in reader:\n",
      "        print rec.INFO\n",
      "        for sample in rec.samples:\n",
      "            print sample\n",
      "        break\n",
      "    break"
     ],
     "language": "python",
     "metadata": {},
     "outputs": [],
     "prompt_number": ""
    },
    {
     "cell_type": "code",
     "collapsed": false,
     "input": [
      "for v in on_map:\n",
      "    v = \"%s.gz\" % v\n",
      "    vcf_string = \"--gzvcf %s --012 --minQ %d --out %s\" % (v, 20, v)\n",
      "    !/home/cfriedline/data7/src/vcftools_0.1.12b/bin/vcftools $vcf_string"
     ],
     "language": "python",
     "metadata": {},
     "outputs": [],
     "prompt_number": ""
    },
    {
     "cell_type": "code",
     "collapsed": false,
     "input": [
      "z12_files = [\"%s.gz.012\" % x for x in on_map]"
     ],
     "language": "python",
     "metadata": {},
     "outputs": [],
     "prompt_number": ""
    },
    {
     "cell_type": "code",
     "collapsed": false,
     "input": [
      "z12_files"
     ],
     "language": "python",
     "metadata": {},
     "outputs": [],
     "prompt_number": ""
    },
    {
     "cell_type": "code",
     "collapsed": false,
     "input": [
      "df = pd.read_csv(z12_files[-1], sep=\"\\t\", header=None)\n",
      "pos = pd.read_csv(\"%s.pos\" % z12_files[-1], header=None, sep=\"\\t\", names=[\"contig\",\"pos\"])\n",
      "pos['name'] = pos.apply(lambda row: \"%s-%d\" % (row.contig, row.pos), axis=1)\n",
      "indv = pd.read_csv(\"%s.indv\" % z12_files[-1], header=None, sep=\"\\t\", index_col=0)\n",
      "df.index = indv.index\n",
      "df = df.drop(0, axis=1)\n",
      "df.index.name = \"sample\"\n",
      "df.columns = pos.name"
     ],
     "language": "python",
     "metadata": {},
     "outputs": [],
     "prompt_number": ""
    },
    {
     "cell_type": "code",
     "collapsed": false,
     "input": [
      "df.to_csv(\"samtools_results.txt\", index=True)"
     ],
     "language": "python",
     "metadata": {},
     "outputs": [],
     "prompt_number": ""
    },
    {
     "cell_type": "code",
     "collapsed": false,
     "input": [
      "FileLink(\"samtools_results.txt\")"
     ],
     "language": "python",
     "metadata": {},
     "outputs": [],
     "prompt_number": ""
    },
    {
     "cell_type": "code",
     "collapsed": false,
     "input": [
      "def calc_missing_perc(col):\n",
      "    num = 0\n",
      "    for val in col:\n",
      "        if val == -1:\n",
      "           num += 1\n",
      "    return (num*100)/len(col)"
     ],
     "language": "python",
     "metadata": {},
     "outputs": [],
     "prompt_number": ""
    },
    {
     "cell_type": "code",
     "collapsed": false,
     "input": [
      "missing_percs = df.apply(calc_missing_perc)"
     ],
     "language": "python",
     "metadata": {},
     "outputs": [],
     "prompt_number": ""
    },
    {
     "cell_type": "code",
     "collapsed": false,
     "input": [
      "for i in xrange(0, 101, 10):\n",
      "    print \"missing >= %d%% = %d snps\" % (i, len(missing_percs[missing_percs>=i]))"
     ],
     "language": "python",
     "metadata": {},
     "outputs": [],
     "prompt_number": ""
    },
    {
     "cell_type": "code",
     "collapsed": false,
     "input": [
      "len(linkage_map)"
     ],
     "language": "python",
     "metadata": {},
     "outputs": [],
     "prompt_number": ""
    },
    {
     "cell_type": "code",
     "collapsed": false,
     "input": [
      "missing_percs"
     ],
     "language": "python",
     "metadata": {},
     "outputs": [],
     "prompt_number": ""
    },
    {
     "cell_type": "code",
     "collapsed": false,
     "input": [
      "!/home/cfriedline/data7/src/freebayes/bin/freebayes --help"
     ],
     "language": "python",
     "metadata": {},
     "outputs": [],
     "prompt_number": ""
    },
    {
     "cell_type": "code",
     "collapsed": false,
     "input": [],
     "language": "python",
     "metadata": {},
     "outputs": []
    }
   ],
   "metadata": {}
  }
 ]
}