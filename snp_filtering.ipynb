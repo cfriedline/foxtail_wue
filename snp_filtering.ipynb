{
 "cells": [
  {
   "cell_type": "code",
   "execution_count": 0,
   "metadata": {
    "collapsed": false
   },
   "outputs": [],
   "source": [
    "import vcf, os, sys\n",
    "from IPython.parallel import Client\n",
    "import time\n",
    "import vcf\n",
    "import pandas as pd\n",
    "from collections import defaultdict\n",
    "import matplotlib.pyplot as plt\n",
    "import numpy as np\n",
    "import scipy as sp\n",
    "from IPython.display import FileLink"
   ]
  },
  {
   "cell_type": "code",
   "execution_count": 0,
   "metadata": {
    "collapsed": false
   },
   "outputs": [],
   "source": [
    "rc = Client(profile=\"huge\")\n",
    "dview = rc[:]\n",
    "lview = rc.load_balanced_view()\n",
    "len(rc)"
   ]
  },
  {
   "cell_type": "code",
   "execution_count": 0,
   "metadata": {
    "collapsed": false
   },
   "outputs": [],
   "source": [
    "def get_idle_engines(rc):\n",
    "    qs = rc.queue_status()\n",
    "    time.sleep(10)\n",
    "    active = [eid for eid in sorted(qs)[:-1] if not qs[eid]['queue']]\n",
    "    d = rc[active]\n",
    "    l = rc.load_balanced_view(targets=active)\n",
    "    return d, l"
   ]
  },
  {
   "cell_type": "code",
   "execution_count": 0,
   "metadata": {
    "collapsed": false
   },
   "outputs": [],
   "source": [
    "dview, lview = get_idle_engines(rc)\n",
    "len(dview)"
   ]
  },
  {
   "cell_type": "code",
   "execution_count": 0,
   "metadata": {
    "collapsed": false
   },
   "outputs": [],
   "source": [
    "with dview.sync_imports():\n",
    "    import vcf\n",
    "    import os\n",
    "    import sys\n",
    "    import pandas\n",
    "    from collections import defaultdict"
   ]
  },
  {
   "cell_type": "code",
   "execution_count": 0,
   "metadata": {
    "collapsed": false
   },
   "outputs": [],
   "source": [
    "vcf_dir = \"/data7/eckertlab/projects/ethan/analysis/samtools1.1/\"\n",
    "vcfs = !ls {vcf_dir}/*.vcf\n",
    "vcfs = sorted(vcfs)\n",
    "vcfs"
   ]
  },
  {
   "cell_type": "code",
   "execution_count": 0,
   "metadata": {
    "collapsed": false
   },
   "outputs": [],
   "source": [
    "vcftools = \"/home/cfriedline/data7/src/vcftools_0.1.12b/bin/vcftools\"\n",
    "bcftools = \"/home/cfriedline/data7/src/bcftools/bcftools\""
   ]
  },
  {
   "cell_type": "code",
   "execution_count": 0,
   "metadata": {
    "collapsed": false
   },
   "outputs": [],
   "source": [
    "vcfs = vcfs[-1:]"
   ]
  },
  {
   "cell_type": "code",
   "execution_count": 0,
   "metadata": {
    "collapsed": false
   },
   "outputs": [],
   "source": [
    "vcfs"
   ]
  },
  {
   "cell_type": "markdown",
   "metadata": {},
   "source": [
    "##Extracts SNPs from vcfs"
   ]
  },
  {
   "cell_type": "code",
   "execution_count": 0,
   "metadata": {
    "collapsed": false
   },
   "outputs": [],
   "source": [
    "def extract_snps_from_vcf(v):\n",
    "    out = v.replace(\".vcf\", \"_snps.vcf\")\n",
    "    with open(out, \"w\") as o:\n",
    "        reader = vcf.VCFReader(filename=v)\n",
    "        writer = vcf.VCFWriter(o, reader)\n",
    "        for rec in reader:\n",
    "            if rec.is_snp:\n",
    "                writer.write_record(rec)\n",
    "    return out\n",
    "dview['extract_snps_from_vcf'] = extract_snps_from_vcf"
   ]
  },
  {
   "cell_type": "code",
   "execution_count": 0,
   "metadata": {
    "collapsed": false
   },
   "outputs": [],
   "source": [
    "vcfs"
   ]
  },
  {
   "cell_type": "code",
   "execution_count": 0,
   "metadata": {
    "collapsed": false
   },
   "outputs": [],
   "source": [
    "snp_count = 0\n",
    "other_count = 0\n",
    "snp_alts = []\n",
    "other_alts = []\n",
    "reader = vcf.VCFReader(filename=vcfs[0])\n",
    "for i, rec in enumerate(reader):\n",
    "    if rec.is_snp:\n",
    "        snp_count += 1\n",
    "        snp_alts.append(rec.ALT)\n",
    "    else:\n",
    "        other_count += 1\n",
    "        other_alts.append(rec.ALT)\n",
    "    if i % 100 == 0:\n",
    "        print \"at %d\" % i\n",
    "print snp_count, other_count"
   ]
  },
  {
   "cell_type": "code",
   "execution_count": 0,
   "metadata": {
    "collapsed": false
   },
   "outputs": [],
   "source": [
    "snps = []\n",
    "for v in vcfs:\n",
    "    snps.append(lview.apply_async(extract_snps_from_vcf, v))"
   ]
  },
  {
   "cell_type": "code",
   "execution_count": 0,
   "metadata": {
    "collapsed": false
   },
   "outputs": [],
   "source": [
    "[x.ready() for x in snps]"
   ]
  },
  {
   "cell_type": "code",
   "execution_count": 0,
   "metadata": {
    "collapsed": false
   },
   "outputs": [],
   "source": [
    "snps = [x.get() for x in snps]"
   ]
  },
  {
   "cell_type": "code",
   "execution_count": 0,
   "metadata": {
    "collapsed": false
   },
   "outputs": [],
   "source": [
    "snps"
   ]
  },
  {
   "cell_type": "markdown",
   "metadata": {},
   "source": [
    "##SNP on linkage map"
   ]
  },
  {
   "cell_type": "code",
   "execution_count": 0,
   "metadata": {
    "collapsed": false
   },
   "outputs": [],
   "source": [
    "linkage_map_file = \"/data7/eckertlab/projects/ethan/analysis/final_maps_cleaned_10_28_2014.xlsx\"\n",
    "linkage_map = pd.read_excel(linkage_map_file)"
   ]
  },
  {
   "cell_type": "code",
   "execution_count": 0,
   "metadata": {
    "collapsed": false
   },
   "outputs": [],
   "source": [
    "linkage_map[\"position\"] = linkage_map.apply(lambda row: int(row.TGG_nomenclature.split(\"-\")[1]), axis=1)"
   ]
  },
  {
   "cell_type": "code",
   "execution_count": 0,
   "metadata": {
    "collapsed": false
   },
   "outputs": [],
   "source": [
    "linkage_map[0:5]"
   ]
  },
  {
   "cell_type": "code",
   "execution_count": 0,
   "metadata": {
    "collapsed": false
   },
   "outputs": [],
   "source": [
    "def create_map_index(linkage_map):\n",
    "    map_index = defaultdict(set)\n",
    "    for row in linkage_map.iterrows():\n",
    "        map_index[row[1].rad_tag_id].add(row[1].position)\n",
    "    return map_index"
   ]
  },
  {
   "cell_type": "code",
   "execution_count": 0,
   "metadata": {
    "collapsed": false
   },
   "outputs": [],
   "source": [
    "map_index = create_map_index(linkage_map)"
   ]
  },
  {
   "cell_type": "code",
   "execution_count": 0,
   "metadata": {
    "collapsed": false
   },
   "outputs": [],
   "source": [
    "def extract_snps_on_map(v):\n",
    "    out = v.replace(\".vcf\", \"_on_map.vcf\")\n",
    "    with open(out, \"w\") as o:\n",
    "        reader = vcf.Reader(open(v))\n",
    "        writer = vcf.Writer(o, reader)\n",
    "        for rec in reader:\n",
    "            if rec.CHROM in map_index:\n",
    "                if rec.POS in map_index[rec.CHROM]:\n",
    "                    writer.write_record(rec)\n",
    "    return out"
   ]
  },
  {
   "cell_type": "code",
   "execution_count": 0,
   "metadata": {
    "collapsed": false
   },
   "outputs": [],
   "source": [
    "mapped_snps = defaultdict(list)\n",
    "for v in snps:\n",
    "    print v\n",
    "    extract_snps_on_map(v)"
   ]
  },
  {
   "cell_type": "code",
   "execution_count": 0,
   "metadata": {
    "collapsed": false
   },
   "outputs": [],
   "source": [
    "on_map = !ls /data7/eckertlab/projects/ethan/analysis/samtools1.1/*on_map.vcf.gz\n",
    "on_map"
   ]
  },
  {
   "cell_type": "code",
   "execution_count": 0,
   "metadata": {
    "collapsed": false
   },
   "outputs": [],
   "source": [
    "for v in on_map:\n",
    "    !/home/cfriedline/data7/src/htslib/bgzip $v\n",
    "    !tabix {v}.gz"
   ]
  },
  {
   "cell_type": "code",
   "execution_count": 0,
   "metadata": {
    "collapsed": false
   },
   "outputs": [],
   "source": [
    "snp_isect = !$bcftools isec -n +1 {\" \".join(on_map)}"
   ]
  },
  {
   "cell_type": "code",
   "execution_count": 0,
   "metadata": {
    "collapsed": false
   },
   "outputs": [],
   "source": [
    "snp_isect = [x.split(\"\\t\") for x in snp_isect[1:]]\n",
    "for x in snp_isect:\n",
    "    x.extend((list(x[-1])))"
   ]
  },
  {
   "cell_type": "code",
   "execution_count": 0,
   "metadata": {
    "collapsed": false
   },
   "outputs": [],
   "source": [
    "columns=[\"contig\",\n",
    "         \"pos\",\n",
    "         \"ref\",\n",
    "         \"alt\",\n",
    "         \"isec\"]\n",
    "columns.extend([os.path.basename(x) for x in on_map])\n",
    "snp_isect_df = pd.DataFrame(snp_isect, columns=columns)"
   ]
  },
  {
   "cell_type": "code",
   "execution_count": 0,
   "metadata": {
    "collapsed": false
   },
   "outputs": [],
   "source": [
    "len(snp_isect_df[snp_isect_df.isec==\"1111\"])"
   ]
  },
  {
   "cell_type": "code",
   "execution_count": 0,
   "metadata": {
    "collapsed": false
   },
   "outputs": [],
   "source": [
    "for v in on_map:\n",
    "    quals = []\n",
    "    v = \"%s\" % v\n",
    "    reader = vcf.Reader(filename=v)\n",
    "    for rec in reader:\n",
    "        quals.append(rec.QUAL)\n",
    "    plt.hist(quals)\n",
    "    title = \"%s %.2f %.2f [%d, %d] (n=%d)\" % (os.path.basename(v),\n",
    "                                       np.mean(quals),\n",
    "                                       np.std(quals),\n",
    "                                       np.min(quals),\n",
    "                                       np.max(quals),\n",
    "                                       len(quals))\n",
    "    plt.title(title)\n",
    "    plt.show()"
   ]
  },
  {
   "cell_type": "code",
   "execution_count": 0,
   "metadata": {
    "collapsed": false
   },
   "outputs": [],
   "source": [
    "for v in on_map:\n",
    "    v = \"%s.gz\" % v\n",
    "    reader = vcf.Reader(filename=v)\n",
    "    for rec in reader:\n",
    "        print rec.INFO\n",
    "        for sample in rec.samples:\n",
    "            print sample\n",
    "        break\n",
    "    break"
   ]
  },
  {
   "cell_type": "code",
   "execution_count": 0,
   "metadata": {
    "collapsed": false
   },
   "outputs": [],
   "source": [
    "for v in on_map:\n",
    "    v = \"%s\" % v\n",
    "    vcf_string = \"--gzvcf %s --012 --minQ %d --out %s\" % (v, 20, v)\n",
    "    !/home/cfriedline/data7/src/vcftools_0.1.12b/bin/vcftools $vcf_string"
   ]
  },
  {
   "cell_type": "code",
   "execution_count": 0,
   "metadata": {
    "collapsed": false
   },
   "outputs": [],
   "source": [
    "!/home/cfriedline/data7/src/vcftools_0.1.12b/bin/vcftools --help"
   ]
  },
  {
   "cell_type": "code",
   "execution_count": 0,
   "metadata": {
    "collapsed": false
   },
   "outputs": [],
   "source": [
    "z12_files = [\"%s.012\" % x for x in on_map]"
   ]
  },
  {
   "cell_type": "code",
   "execution_count": 0,
   "metadata": {
    "collapsed": false
   },
   "outputs": [],
   "source": [
    "z12_files"
   ]
  },
  {
   "cell_type": "code",
   "execution_count": 0,
   "metadata": {
    "collapsed": false
   },
   "outputs": [],
   "source": [
    "df = pd.read_csv(z12_files[-1], sep=\"\\t\", header=None)\n",
    "pos = pd.read_csv(\"%s.pos\" % z12_files[-1], header=None, sep=\"\\t\", names=[\"contig\",\"pos\"])\n",
    "pos['name'] = pos.apply(lambda row: \"%s-%d\" % (row.contig, row.pos), axis=1)\n",
    "indv = pd.read_csv(\"%s.indv\" % z12_files[-1], header=None, sep=\"\\t\", index_col=0)\n",
    "df.index = indv.index\n",
    "df = df.drop(0, axis=1)\n",
    "df.index.name = \"sample\"\n",
    "df.columns = pos.name\n",
    "df[0:5]"
   ]
  },
  {
   "cell_type": "code",
   "execution_count": 0,
   "metadata": {
    "collapsed": false
   },
   "outputs": [],
   "source": [
    "len(df.columns)"
   ]
  },
  {
   "cell_type": "code",
   "execution_count": 0,
   "metadata": {
    "collapsed": false
   },
   "outputs": [],
   "source": [
    "df.to_csv(\"samtools_1.1_results.txt\", index=True)"
   ]
  },
  {
   "cell_type": "code",
   "execution_count": 0,
   "metadata": {
    "collapsed": false
   },
   "outputs": [],
   "source": [
    "FileLink(\"samtools_1.1_results.txt\")"
   ]
  },
  {
   "cell_type": "code",
   "execution_count": 0,
   "metadata": {
    "collapsed": false
   },
   "outputs": [],
   "source": [
    "def calc_missing_perc(col):\n",
    "    num = 0\n",
    "    for val in col:\n",
    "        if val == -1:\n",
    "           num += 1\n",
    "    return (num*100)/len(col)"
   ]
  },
  {
   "cell_type": "code",
   "execution_count": 0,
   "metadata": {
    "collapsed": false
   },
   "outputs": [],
   "source": [
    "missing_percs = df.apply(calc_missing_perc)"
   ]
  },
  {
   "cell_type": "code",
   "execution_count": 0,
   "metadata": {
    "collapsed": false
   },
   "outputs": [],
   "source": [
    "for i in xrange(0, 101, 10):\n",
    "    print \"missing >= %d%% = %d snps\" % (i, len(missing_percs[missing_percs>=i]))"
   ]
  },
  {
   "cell_type": "code",
   "execution_count": 0,
   "metadata": {
    "collapsed": false
   },
   "outputs": [],
   "source": [
    "len(linkage_map)"
   ]
  },
  {
   "cell_type": "code",
   "execution_count": 0,
   "metadata": {
    "collapsed": false
   },
   "outputs": [],
   "source": [
    "missing_percs"
   ]
  },
  {
   "cell_type": "code",
   "execution_count": 0,
   "metadata": {
    "collapsed": false
   },
   "outputs": [],
   "source": []
  }
 ],
 "metadata": {
  "kernelspec": {
   "display_name": "Python 3",
   "language": "python",
   "name": "python3"
  },
  "language_info": {
   "codemirror_mode": {
    "name": "ipython",
    "version": 3
   },
   "file_extension": ".py",
   "mimetype": "text/x-python",
   "name": "python",
   "nbconvert_exporter": "python",
   "pygments_lexer": "ipython3",
   "version": "3.4.3"
  }
 },
 "nbformat": 4,
 "nbformat_minor": 0
}
